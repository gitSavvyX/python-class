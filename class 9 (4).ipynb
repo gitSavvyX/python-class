{
 "cells": [
  {
   "cell_type": "code",
   "execution_count": null,
   "id": "ce915d79-55cb-495f-b425-39163d187d4a",
   "metadata": {},
   "outputs": [],
   "source": [
    "data  = [1,3,5,6,3,15,18]\n",
    "# extract even numbers from this list\n",
    "[i for i in data if i%2==0]"
   ]
  },
  {
   "cell_type": "code",
   "execution_count": null,
   "id": "00207529-f532-44db-bc71-ca9b8122f2fb",
   "metadata": {},
   "outputs": [],
   "source": [
    "# start with users that need to be verified .\n",
    "# add an empty list to hold confirmed_users.\n",
    "unconfirmed_users = ['alice','brian','candace']\n",
    "confirmed_users = []\n",
    "\n",
    "# verify each user until there are no more unconfirmed users.\n",
    "# move each verified user into the list of confirmed users.\n",
    "while unconfirmed_users : \n",
    "  current_user = unconfirmed_users.pop()\n",
    "  \n",
    "  print(f\"Verifying user : {current_user.title()}\")\n",
    "  confirmed_users.append(current_user)\n",
    "  \n",
    "# Display all confirmed users.\n",
    "print(f\"The following users have been confirmed : \")\n",
    "for confirmed_user in confirmed_users:\n",
    "  print(confirmed_user.title())"
   ]
  },
  {
   "cell_type": "code",
   "execution_count": null,
   "id": "e8c102b0-dbe9-4d20-94b9-811fdbd90fa1",
   "metadata": {},
   "outputs": [],
   "source": [
    "# below is an infinite loop. !!\n",
    "a = 10 # any value in a means it is true. a = 0 means it is false and while loop will not work.\n",
    "while a :\n",
    "  print(\"abc\")\n",
    "  "
   ]
  },
  {
   "cell_type": "code",
   "execution_count": 1,
   "id": "692b9250-c199-491f-9083-53557bfe426c",
   "metadata": {},
   "outputs": [
    {
     "name": "stdout",
     "output_type": "stream",
     "text": [
      "abc\n"
     ]
    }
   ],
   "source": [
    "a = \"pakistan\" # any value in a means it is true. a = 0 means it is false and while loop will not work.\n",
    "while a :\n",
    "  print(\"abc\")\n",
    "  break\n",
    "  "
   ]
  },
  {
   "cell_type": "code",
   "execution_count": 2,
   "id": "e1b7902d-dd86-4b45-85c0-8aa08f0bdd97",
   "metadata": {},
   "outputs": [
    {
     "name": "stdout",
     "output_type": "stream",
     "text": [
      "3\n",
      "2\n",
      "1\n"
     ]
    }
   ],
   "source": [
    "data = [1,2,3]\n",
    "while data :\n",
    "  n = data.pop()\n",
    "  print(n)"
   ]
  },
  {
   "cell_type": "code",
   "execution_count": 3,
   "id": "23eab986-aae0-4429-bc4b-874666f610ac",
   "metadata": {},
   "outputs": [
    {
     "name": "stdout",
     "output_type": "stream",
     "text": [
      "['dog', 'cat', 'dog', 'goldfish', 'cat', 'rabbit', 'cat']\n",
      "['dog', 'dog', 'goldfish', 'rabbit']\n"
     ]
    }
   ],
   "source": [
    "# removing all instances of specific values from a list\n",
    "pets = [\"dog\",\"cat\", 'dog', 'goldfish', 'cat' , \"rabbit\", \"cat\"]\n",
    "print(pets)\n",
    "\n",
    "while \"cat\" in pets:\n",
    "  pets.remove(\"cat\")\n",
    "  \n",
    "  \n",
    "print(pets)"
   ]
  },
  {
   "cell_type": "code",
   "execution_count": null,
   "id": "45a75625-98f2-468b-8b0f-c23489f76284",
   "metadata": {},
   "outputs": [],
   "source": []
  }
 ],
 "metadata": {
  "kernelspec": {
   "display_name": "Python 3 (ipykernel)",
   "language": "python",
   "name": "python3"
  },
  "language_info": {
   "codemirror_mode": {
    "name": "ipython",
    "version": 3
   },
   "file_extension": ".py",
   "mimetype": "text/x-python",
   "name": "python",
   "nbconvert_exporter": "python",
   "pygments_lexer": "ipython3",
   "version": "3.11.7"
  }
 },
 "nbformat": 4,
 "nbformat_minor": 5
}
