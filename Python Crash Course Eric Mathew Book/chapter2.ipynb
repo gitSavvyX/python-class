{
 "cells": [
  {
   "cell_type": "markdown",
   "id": "5438000a-029a-4902-a769-61239c854765",
   "metadata": {},
   "source": [
    "# Chapter # 2 : Variables and Simple Data Types"
   ]
  },
  {
   "cell_type": "markdown",
   "id": "2edf30ea-2bd9-499c-8b71-89b15e08302f",
   "metadata": {},
   "source": [
    "## Exercise 2.1 : Simple Message"
   ]
  },
  {
   "cell_type": "code",
   "execution_count": 4,
   "id": "e31c3177-cbe5-469a-9617-195171d365eb",
   "metadata": {},
   "outputs": [
    {
     "name": "stdout",
     "output_type": "stream",
     "text": [
      "Hello Ali !\n"
     ]
    }
   ],
   "source": [
    "message = \"Hello Ali !\"\n",
    "print(message)"
   ]
  },
  {
   "cell_type": "markdown",
   "id": "2a775ad6-d10c-4334-becd-2b7d854d21b5",
   "metadata": {},
   "source": [
    "## Exercise 2.2 : Simple Messages"
   ]
  },
  {
   "cell_type": "code",
   "execution_count": 2,
   "id": "abb98d62-886c-49cb-9032-c41aeaf8cece",
   "metadata": {},
   "outputs": [
    {
     "name": "stdout",
     "output_type": "stream",
     "text": [
      "Hello , how are you ?\n",
      "Have you eaten breakfast ?\n"
     ]
    }
   ],
   "source": [
    "greeting = \"Hello , how are you ?\"\n",
    "print(greeting)\n",
    "greeting = \"Have you eaten breakfast ?\"\n",
    "print(greeting)"
   ]
  },
  {
   "cell_type": "markdown",
   "id": "c2387664-0031-4bdb-803d-35f4bea566dd",
   "metadata": {},
   "source": [
    "## Exercise 2.3 : Personal Message"
   ]
  },
  {
   "cell_type": "code",
   "execution_count": 5,
   "id": "651a0704-0399-4466-8fcb-c7c66b2bed13",
   "metadata": {},
   "outputs": [
    {
     "name": "stdout",
     "output_type": "stream",
     "text": [
      "Ali what are you doing ? Did you go to cycling today ?\n"
     ]
    }
   ],
   "source": [
    "Ali = \"Ali what are you doing ? Did you go to cycling today ?\"\n",
    "print(Ali)\n"
   ]
  },
  {
   "cell_type": "markdown",
   "id": "6a303a39-0191-4edb-8feb-e2ff3a26bdc8",
   "metadata": {},
   "source": [
    "## Exercise 2.4 : Name Cases "
   ]
  },
  {
   "cell_type": "code",
   "execution_count": 9,
   "id": "301eb5a1-01af-4838-9a24-7a5abc4ecaa7",
   "metadata": {},
   "outputs": [
    {
     "name": "stdout",
     "output_type": "stream",
     "text": [
      "Ali Ahmed\n",
      "ALI AHMED\n",
      "ali ahmed\n"
     ]
    }
   ],
   "source": [
    "ali_ahmed = \"Ali ahmed\"\n",
    "print(ali_ahmed.title())\n",
    "print(ali_ahmed.upper())\n",
    "print(ali_ahmed.lower())"
   ]
  },
  {
   "cell_type": "markdown",
   "id": "a818c949-2041-464e-b570-319d1a0e9a73",
   "metadata": {},
   "source": [
    "##  Exercise 2.5 : Famous Quote"
   ]
  },
  {
   "cell_type": "code",
   "execution_count": 14,
   "id": "d7847ee3-6147-463d-812d-62627886862d",
   "metadata": {},
   "outputs": [
    {
     "name": "stdout",
     "output_type": "stream",
     "text": [
      "\n",
      "        Shakespear said , \"All  the world's a stage and all\n",
      "        the men and women merely players.\"\n",
      "\n"
     ]
    }
   ],
   "source": [
    "quote = \"\"\"\n",
    "        Shakespear said , \"All  the world's a stage and all\n",
    "        the men and women merely players.\"\n",
    "\"\"\"\n",
    "\n",
    "print(quote)"
   ]
  },
  {
   "cell_type": "markdown",
   "id": "7de0c4c5-61aa-4700-a02f-7bd62d81fdc9",
   "metadata": {},
   "source": [
    "## Exercise 2.6 : Famous Quote 2"
   ]
  },
  {
   "cell_type": "code",
   "execution_count": 28,
   "id": "d0eb2e63-324d-4c92-8148-41a2973859fa",
   "metadata": {},
   "outputs": [
    {
     "name": "stdout",
     "output_type": "stream",
     "text": [
      "    Shakespear said , \"\" All the world's a stage and all  \n",
      "    the men and women merely players. \"     \n"
     ]
    }
   ],
   "source": [
    "famous_person = \"Shakespear\"\n",
    "message = \"All the world's a stage and all  \\n    the men and women merely players.\"\n",
    "print(f\"\"\"    {famous_person} said , \"\" {message} \"     \"\"\")"
   ]
  },
  {
   "cell_type": "markdown",
   "id": "de8c03a6-b7d1-4137-95ff-9a5529b24a74",
   "metadata": {},
   "source": [
    "## Exercise 2.7 : Stripping Names"
   ]
  },
  {
   "cell_type": "code",
   "execution_count": 43,
   "id": "a4774696-dcab-4081-9829-ccc351597de5",
   "metadata": {},
   "outputs": [
    {
     "name": "stdout",
     "output_type": "stream",
     "text": [
      "   Name : \n",
      " \t  Ahmed Ali Butt         \n",
      "Name : \n",
      " \t  Ahmed Ali Butt\n",
      "Name : \n",
      " \t  Ahmed Ali Butt         \n",
      "   Name : \n",
      " \t  Ahmed Ali Butt\n"
     ]
    }
   ],
   "source": [
    "name = \"   Name : \\n \\t  Ahmed Ali Butt         \"\n",
    "print(name)\n",
    "print(name.strip())\n",
    "print(name.lstrip())\n",
    "print(name.rstrip())"
   ]
  },
  {
   "cell_type": "markdown",
   "id": "2c4adee8-ae1b-4c2e-a6e7-50bf0f8fb62a",
   "metadata": {},
   "source": [
    "## Exercise 2.8 : File Extensions"
   ]
  },
  {
   "cell_type": "code",
   "execution_count": 50,
   "id": "73fcdf62-ab53-4eca-a7cb-c44d22e67f34",
   "metadata": {},
   "outputs": [
    {
     "name": "stdout",
     "output_type": "stream",
     "text": [
      "python_notes\n"
     ]
    }
   ],
   "source": [
    "filename = \"python_notes.txt\"\n",
    "filename = filename.removesuffix(\".txt\")\n",
    "print(filename)"
   ]
  },
  {
   "cell_type": "markdown",
   "id": "88f423d5-4214-4394-9a7b-6882abac1f3a",
   "metadata": {},
   "source": [
    "## Exercise 2.9 : Number Eight"
   ]
  },
  {
   "cell_type": "code",
   "execution_count": 51,
   "id": "0b00a271-52cf-4398-9a84-8f645ecd85ad",
   "metadata": {},
   "outputs": [
    {
     "name": "stdout",
     "output_type": "stream",
     "text": [
      "8\n",
      "8\n",
      "8\n",
      "8.0\n"
     ]
    }
   ],
   "source": [
    "print(5+3)\n",
    "print(8-0)\n",
    "print(2*4)\n",
    "print(16/2)"
   ]
  },
  {
   "cell_type": "markdown",
   "id": "98e46431-1955-4297-8803-388030ea91e0",
   "metadata": {},
   "source": [
    "## Exercise 2.10 : Favourite Number"
   ]
  },
  {
   "cell_type": "code",
   "execution_count": 52,
   "id": "e00178ed-2a8d-4259-86d6-1b6d388df59b",
   "metadata": {},
   "outputs": [
    {
     "name": "stdout",
     "output_type": "stream",
     "text": [
      "My favourite number is :  3\n"
     ]
    }
   ],
   "source": [
    "favourite_number = 3\n",
    "message = \"My favourite number is : \"\n",
    "print(f\"{message} {favourite_number}\")"
   ]
  },
  {
   "cell_type": "markdown",
   "id": "e9a259bb-682b-4ae7-806c-10a9138bff6d",
   "metadata": {},
   "source": [
    "## Exercise 2.11 : Adding Comments"
   ]
  },
  {
   "cell_type": "code",
   "execution_count": 53,
   "id": "584bf003-c2ea-4f89-b6d4-49d6ca411566",
   "metadata": {},
   "outputs": [
    {
     "name": "stdout",
     "output_type": "stream",
     "text": [
      "My favourite number is : 3\n"
     ]
    }
   ],
   "source": [
    "# I am adding comments to this program. This is a comment.\n",
    "favourite_number = 3  \n",
    "message = \"My favourite number is : \"\n",
    "print(f\"{message}{favourite_number}\") # Here we are printing the meesage to the screen."
   ]
  },
  {
   "cell_type": "markdown",
   "id": "21fa3855-742e-4d5d-b479-49d15aba5035",
   "metadata": {},
   "source": [
    "## Exercise 2.12 : Zen of Python"
   ]
  },
  {
   "cell_type": "code",
   "execution_count": 54,
   "id": "47928d69-9bf2-4c93-badd-9ecedfc3c9e6",
   "metadata": {},
   "outputs": [
    {
     "name": "stdout",
     "output_type": "stream",
     "text": [
      "The Zen of Python, by Tim Peters\n",
      "\n",
      "Beautiful is better than ugly.\n",
      "Explicit is better than implicit.\n",
      "Simple is better than complex.\n",
      "Complex is better than complicated.\n",
      "Flat is better than nested.\n",
      "Sparse is better than dense.\n",
      "Readability counts.\n",
      "Special cases aren't special enough to break the rules.\n",
      "Although practicality beats purity.\n",
      "Errors should never pass silently.\n",
      "Unless explicitly silenced.\n",
      "In the face of ambiguity, refuse the temptation to guess.\n",
      "There should be one-- and preferably only one --obvious way to do it.\n",
      "Although that way may not be obvious at first unless you're Dutch.\n",
      "Now is better than never.\n",
      "Although never is often better than *right* now.\n",
      "If the implementation is hard to explain, it's a bad idea.\n",
      "If the implementation is easy to explain, it may be a good idea.\n",
      "Namespaces are one honking great idea -- let's do more of those!\n"
     ]
    }
   ],
   "source": [
    "import this"
   ]
  }
 ],
 "metadata": {
  "kernelspec": {
   "display_name": "Python 3 (ipykernel)",
   "language": "python",
   "name": "python3"
  },
  "language_info": {
   "codemirror_mode": {
    "name": "ipython",
    "version": 3
   },
   "file_extension": ".py",
   "mimetype": "text/x-python",
   "name": "python",
   "nbconvert_exporter": "python",
   "pygments_lexer": "ipython3",
   "version": "3.11.7"
  }
 },
 "nbformat": 4,
 "nbformat_minor": 5
}
