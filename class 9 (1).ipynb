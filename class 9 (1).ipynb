{
 "cells": [
  {
   "cell_type": "markdown",
   "id": "744a0fc4-54ee-4e85-b4a6-534eda5ae563",
   "metadata": {},
   "source": [
    "# 09 class Python Crash Course | loop, iterative type, input, sys.argv"
   ]
  },
  {
   "cell_type": "markdown",
   "id": "38b21e06-47a3-4995-af24-d73c4ddde82d",
   "metadata": {},
   "source": [
    "# loop and input from user\n",
    "* while loop\n",
    "* for loop\n",
    "* controls\n",
    "    * break\n",
    "    * continue\n",
    "    * pass\n",
    "\n",
    "there is no do-while loop\n",
    "\n",
    "* input with input function\n",
    "* input from console\n",
    "\n",
    "# loops work on iterative data types\n",
    "* list\n",
    "* dictionary\n",
    "* tuple\n",
    "* string\n",
    "\n",
    "iteration cannot be performed on set.\n"
   ]
  },
  {
   "cell_type": "code",
   "execution_count": 1,
   "id": "525a33a1-1c7f-4be8-bdbb-6a31c275f8c9",
   "metadata": {},
   "outputs": [
    {
     "name": "stdout",
     "output_type": "stream",
     "text": [
      "[1, 2, 3, 4, 5, 6]\n"
     ]
    }
   ],
   "source": [
    "l1 : list = [1,2,3,4,5,6]\n",
    "print(l1)"
   ]
  },
  {
   "cell_type": "code",
   "execution_count": 2,
   "id": "b5167f6e-2709-41da-8b84-a754bb6716fc",
   "metadata": {},
   "outputs": [
    {
     "name": "stdout",
     "output_type": "stream",
     "text": [
      "1\n",
      "2\n",
      "3\n",
      "4\n",
      "5\n",
      "6\n"
     ]
    }
   ],
   "source": [
    "l1 : list = [1,2,3,4,5,6]\n",
    "for n in l1:   # here n is local variable\n",
    "    print(n)    # by default \\n with print()\n",
    "\n",
    "# how the list is working :\n",
    "# for n in [1,2,3,4,5,6] :\n",
    "\n",
    "# for n=1 in [2,3,4,5,6]:\n",
    "#    print(1)\n",
    "\n",
    "# for n=2 in [3,4,5,6]:\n",
    "#    print(2)"
   ]
  },
  {
   "cell_type": "code",
   "execution_count": 4,
   "id": "2d2299d8-2b3c-4aa5-84dd-711c14606709",
   "metadata": {},
   "outputs": [
    {
     "name": "stdout",
     "output_type": "stream",
     "text": [
      "current number : 1\n",
      "current number : 2\n",
      "current number : 3\n",
      "current number : 4\n",
      "current number : 5\n",
      "current number : 6\n"
     ]
    }
   ],
   "source": [
    "l1 : list[int] = [1,2,3,4,5,6]\n",
    "for n in l1:\n",
    "    print(f\"current number : {n}\")"
   ]
  },
  {
   "cell_type": "code",
   "execution_count": 5,
   "id": "161ff4d1-74be-459e-9cba-c602caf9fe1e",
   "metadata": {},
   "outputs": [
    {
     "name": "stdout",
     "output_type": "stream",
     "text": [
      "current number : 1\n",
      "current number : 2\n",
      "current number : 3\n",
      "current number : 4\n",
      "current number : 5\n",
      "current number : 6\n"
     ]
    }
   ],
   "source": [
    "# iteration inside tuple\n",
    "l1 : tuple[int] = (1,2,3,4,5,6)\n",
    "\n",
    "for n in l1:\n",
    "    print(f\"current number : {n}\")"
   ]
  },
  {
   "cell_type": "code",
   "execution_count": 6,
   "id": "3a9813bb-b3a2-4cdd-9034-762a7b1bcf85",
   "metadata": {},
   "outputs": [
    {
     "name": "stdout",
     "output_type": "stream",
     "text": [
      "current number : P\n",
      "current number : a\n",
      "current number : k\n",
      "current number : i\n",
      "current number : s\n",
      "current number : t\n",
      "current number : a\n",
      "current number : n\n"
     ]
    }
   ],
   "source": [
    "# iteration in string\n",
    "l1 : str = \"Pakistan\"\n",
    "\n",
    "for c in l1:\n",
    "    print(f\"current number : {c}\")"
   ]
  },
  {
   "cell_type": "code",
   "execution_count": 7,
   "id": "9d16f9a0-ed89-4b38-8ecf-2cc5406c99d5",
   "metadata": {},
   "outputs": [
    {
     "name": "stdout",
     "output_type": "stream",
     "text": [
      "current character : name\n",
      "current character : fname\n"
     ]
    }
   ],
   "source": [
    "# iteration in dictionary\n",
    "# in dictionary , iteration performs on keys.\n",
    "\n",
    "# printing dictionary key\n",
    "l1 : dict[str,str] = {\"name\": \"Muhammad Qasim\", \"fname\":\"Muhammad Aslam\"}\n",
    "\n",
    "for k in l1:\n",
    "    print(f\"current character : {k}\")"
   ]
  },
  {
   "cell_type": "code",
   "execution_count": 10,
   "id": "a4f18a09-1a47-4c87-b7ee-48aebfb8d699",
   "metadata": {},
   "outputs": [
    {
     "name": "stdout",
     "output_type": "stream",
     "text": [
      "dictionary key is name and dictionary value is Muhammad Qasim\n",
      "dictionary key is fname and dictionary value is Muhammad Aslam\n"
     ]
    }
   ],
   "source": [
    "# printing dictionary key and value\n",
    "l1 : dict[str,str] = {\"name\": \"Muhammad Qasim\" , \"fname\":\"Muhammad Aslam\"}\n",
    "for k in l1:\n",
    "    print(f\"dictionary key is {k} and dictionary value is {l1[k]}\")"
   ]
  },
  {
   "cell_type": "code",
   "execution_count": 11,
   "id": "8a696ec3-3561-4c74-b388-797f2a49afff",
   "metadata": {},
   "outputs": [
    {
     "ename": "TypeError",
     "evalue": "'type' object is not iterable",
     "output_type": "error",
     "traceback": [
      "\u001b[1;31m---------------------------------------------------------------------------\u001b[0m",
      "\u001b[1;31mTypeError\u001b[0m                                 Traceback (most recent call last)",
      "Cell \u001b[1;32mIn[11], line 3\u001b[0m\n\u001b[0;32m      1\u001b[0m \u001b[38;5;66;03m# iteration cannot be performed on set data type\u001b[39;00m\n\u001b[0;32m      2\u001b[0m l1 : \u001b[38;5;28mset\u001b[39m \u001b[38;5;241m=\u001b[39m {\u001b[38;5;241m1\u001b[39m,\u001b[38;5;241m2\u001b[39m,\u001b[38;5;241m3\u001b[39m,\u001b[38;5;241m3\u001b[39m,\u001b[38;5;241m3\u001b[39m,\u001b[38;5;241m3\u001b[39m}\n\u001b[1;32m----> 3\u001b[0m \u001b[38;5;28;01mfor\u001b[39;00m s \u001b[38;5;129;01min\u001b[39;00m \u001b[38;5;28mset\u001b[39m:\n\u001b[0;32m      4\u001b[0m     \u001b[38;5;28mprint\u001b[39m(s)\n",
      "\u001b[1;31mTypeError\u001b[0m: 'type' object is not iterable"
     ]
    }
   ],
   "source": [
    "# iteration cannot be performed on set data type\n",
    "l1 : set = {1,2,3,3,3,3}\n",
    "for s in set:\n",
    "    print(s) # error"
   ]
  },
  {
   "cell_type": "code",
   "execution_count": 13,
   "id": "a2273de2-228b-4191-8fa0-76c6291b602e",
   "metadata": {},
   "outputs": [
    {
     "name": "stdout",
     "output_type": "stream",
     "text": [
      "value from list of set : 1\n",
      "value from list of set : 2\n",
      "value from list of set : 3\n"
     ]
    }
   ],
   "source": [
    "# removing above error\n",
    "l1 : list[set[int]] =  list({1,2,3,3,3})\n",
    "for k in l1:\n",
    "    print(f\"value from list of set : {k}\")  # set prints distinct values"
   ]
  },
  {
   "cell_type": "code",
   "execution_count": null,
   "id": "1421b9ee-477c-4f6d-83f0-33bdfa52387c",
   "metadata": {},
   "outputs": [],
   "source": [
    "# string is immutable . you cannot update the slice from string."
   ]
  },
  {
   "cell_type": "markdown",
   "id": "54eb822c-83c0-4bdd-86c9-82184c4ad4e8",
   "metadata": {},
   "source": [
    "# input from user:\n",
    "we can input from user by the folowing two ways:\n",
    "* input function\n",
    "    * input function has default type string . (it means anything you pass in input function it will convert into string .)\n",
    "* sys.argv\n",
    "    * the default type of sys.argv is object. (it means the data type of anything you pass , then it will return the same data type) . it is not\n",
    "      obj , it is str.  "
   ]
  },
  {
   "cell_type": "code",
   "execution_count": 16,
   "id": "2dd0cc0d-6af1-4963-9808-01291b45bdb4",
   "metadata": {},
   "outputs": [
    {
     "name": "stdin",
     "output_type": "stream",
     "text": [
      "What is you name? : \t Muhammad Qasim\n"
     ]
    },
    {
     "name": "stdout",
     "output_type": "stream",
     "text": [
      "<class 'str'>\n",
      "Welcome, dear user Mr/Miss Muhammad Qasim !\n"
     ]
    }
   ],
   "source": [
    "name : str = input(\"What is you name? : \\t\")\n",
    "print(type(name))\n",
    "print(f\"Welcome, dear user Mr/Miss {name} !\")"
   ]
  },
  {
   "cell_type": "code",
   "execution_count": 17,
   "id": "43f0caf1-3bf9-4329-b000-e43dd762074a",
   "metadata": {},
   "outputs": [
    {
     "data": {
      "text/plain": [
       "['__add__',\n",
       " '__class__',\n",
       " '__class_getitem__',\n",
       " '__contains__',\n",
       " '__delattr__',\n",
       " '__dir__',\n",
       " '__doc__',\n",
       " '__eq__',\n",
       " '__format__',\n",
       " '__ge__',\n",
       " '__getattribute__',\n",
       " '__getitem__',\n",
       " '__getnewargs__',\n",
       " '__getstate__',\n",
       " '__gt__',\n",
       " '__hash__',\n",
       " '__init__',\n",
       " '__init_subclass__',\n",
       " '__iter__',\n",
       " '__le__',\n",
       " '__len__',\n",
       " '__lt__',\n",
       " '__mul__',\n",
       " '__ne__',\n",
       " '__new__',\n",
       " '__reduce__',\n",
       " '__reduce_ex__',\n",
       " '__repr__',\n",
       " '__rmul__',\n",
       " '__setattr__',\n",
       " '__sizeof__',\n",
       " '__str__',\n",
       " '__subclasshook__',\n",
       " 'count',\n",
       " 'index']"
      ]
     },
     "execution_count": 17,
     "metadata": {},
     "output_type": "execute_result"
    }
   ],
   "source": [
    "dir (tuple)"
   ]
  },
  {
   "cell_type": "code",
   "execution_count": 18,
   "id": "294a627b-cd2a-4a95-ad8e-6e2767f25a15",
   "metadata": {},
   "outputs": [
    {
     "data": {
      "text/plain": [
       "['__add__',\n",
       " '__class__',\n",
       " '__class_getitem__',\n",
       " '__contains__',\n",
       " '__delattr__',\n",
       " '__delitem__',\n",
       " '__dir__',\n",
       " '__doc__',\n",
       " '__eq__',\n",
       " '__format__',\n",
       " '__ge__',\n",
       " '__getattribute__',\n",
       " '__getitem__',\n",
       " '__getstate__',\n",
       " '__gt__',\n",
       " '__hash__',\n",
       " '__iadd__',\n",
       " '__imul__',\n",
       " '__init__',\n",
       " '__init_subclass__',\n",
       " '__iter__',\n",
       " '__le__',\n",
       " '__len__',\n",
       " '__lt__',\n",
       " '__mul__',\n",
       " '__ne__',\n",
       " '__new__',\n",
       " '__reduce__',\n",
       " '__reduce_ex__',\n",
       " '__repr__',\n",
       " '__reversed__',\n",
       " '__rmul__',\n",
       " '__setattr__',\n",
       " '__setitem__',\n",
       " '__sizeof__',\n",
       " '__str__',\n",
       " '__subclasshook__',\n",
       " 'append',\n",
       " 'clear',\n",
       " 'copy',\n",
       " 'count',\n",
       " 'extend',\n",
       " 'index',\n",
       " 'insert',\n",
       " 'pop',\n",
       " 'remove',\n",
       " 'reverse',\n",
       " 'sort']"
      ]
     },
     "execution_count": 18,
     "metadata": {},
     "output_type": "execute_result"
    }
   ],
   "source": [
    "dir (list)"
   ]
  },
  {
   "cell_type": "code",
   "execution_count": 19,
   "id": "2fb3181e-6334-4255-8372-0ef5dcb8378b",
   "metadata": {},
   "outputs": [
    {
     "data": {
      "text/plain": [
       "['__add__',\n",
       " '__class__',\n",
       " '__contains__',\n",
       " '__delattr__',\n",
       " '__dir__',\n",
       " '__doc__',\n",
       " '__eq__',\n",
       " '__format__',\n",
       " '__ge__',\n",
       " '__getattribute__',\n",
       " '__getitem__',\n",
       " '__getnewargs__',\n",
       " '__getstate__',\n",
       " '__gt__',\n",
       " '__hash__',\n",
       " '__init__',\n",
       " '__init_subclass__',\n",
       " '__iter__',\n",
       " '__le__',\n",
       " '__len__',\n",
       " '__lt__',\n",
       " '__mod__',\n",
       " '__mul__',\n",
       " '__ne__',\n",
       " '__new__',\n",
       " '__reduce__',\n",
       " '__reduce_ex__',\n",
       " '__repr__',\n",
       " '__rmod__',\n",
       " '__rmul__',\n",
       " '__setattr__',\n",
       " '__sizeof__',\n",
       " '__str__',\n",
       " '__subclasshook__',\n",
       " 'capitalize',\n",
       " 'casefold',\n",
       " 'center',\n",
       " 'count',\n",
       " 'encode',\n",
       " 'endswith',\n",
       " 'expandtabs',\n",
       " 'find',\n",
       " 'format',\n",
       " 'format_map',\n",
       " 'index',\n",
       " 'isalnum',\n",
       " 'isalpha',\n",
       " 'isascii',\n",
       " 'isdecimal',\n",
       " 'isdigit',\n",
       " 'isidentifier',\n",
       " 'islower',\n",
       " 'isnumeric',\n",
       " 'isprintable',\n",
       " 'isspace',\n",
       " 'istitle',\n",
       " 'isupper',\n",
       " 'join',\n",
       " 'ljust',\n",
       " 'lower',\n",
       " 'lstrip',\n",
       " 'maketrans',\n",
       " 'partition',\n",
       " 'removeprefix',\n",
       " 'removesuffix',\n",
       " 'replace',\n",
       " 'rfind',\n",
       " 'rindex',\n",
       " 'rjust',\n",
       " 'rpartition',\n",
       " 'rsplit',\n",
       " 'rstrip',\n",
       " 'split',\n",
       " 'splitlines',\n",
       " 'startswith',\n",
       " 'strip',\n",
       " 'swapcase',\n",
       " 'title',\n",
       " 'translate',\n",
       " 'upper',\n",
       " 'zfill']"
      ]
     },
     "execution_count": 19,
     "metadata": {},
     "output_type": "execute_result"
    }
   ],
   "source": [
    "dir(str)"
   ]
  },
  {
   "cell_type": "code",
   "execution_count": 20,
   "id": "03d3f807-0e85-4826-b0c8-d1c89e6d02c4",
   "metadata": {},
   "outputs": [
    {
     "data": {
      "text/plain": [
       "['__class__',\n",
       " '__class_getitem__',\n",
       " '__contains__',\n",
       " '__delattr__',\n",
       " '__delitem__',\n",
       " '__dir__',\n",
       " '__doc__',\n",
       " '__eq__',\n",
       " '__format__',\n",
       " '__ge__',\n",
       " '__getattribute__',\n",
       " '__getitem__',\n",
       " '__getstate__',\n",
       " '__gt__',\n",
       " '__hash__',\n",
       " '__init__',\n",
       " '__init_subclass__',\n",
       " '__ior__',\n",
       " '__iter__',\n",
       " '__le__',\n",
       " '__len__',\n",
       " '__lt__',\n",
       " '__ne__',\n",
       " '__new__',\n",
       " '__or__',\n",
       " '__reduce__',\n",
       " '__reduce_ex__',\n",
       " '__repr__',\n",
       " '__reversed__',\n",
       " '__ror__',\n",
       " '__setattr__',\n",
       " '__setitem__',\n",
       " '__sizeof__',\n",
       " '__str__',\n",
       " '__subclasshook__',\n",
       " 'clear',\n",
       " 'copy',\n",
       " 'fromkeys',\n",
       " 'get',\n",
       " 'items',\n",
       " 'keys',\n",
       " 'pop',\n",
       " 'popitem',\n",
       " 'setdefault',\n",
       " 'update',\n",
       " 'values']"
      ]
     },
     "execution_count": 20,
     "metadata": {},
     "output_type": "execute_result"
    }
   ],
   "source": [
    "dir(dict)"
   ]
  },
  {
   "cell_type": "code",
   "execution_count": 21,
   "id": "b8d078f3-3cb0-43a6-a281-a369c8f12a2d",
   "metadata": {},
   "outputs": [
    {
     "data": {
      "text/plain": [
       "['__and__',\n",
       " '__class__',\n",
       " '__class_getitem__',\n",
       " '__contains__',\n",
       " '__delattr__',\n",
       " '__dir__',\n",
       " '__doc__',\n",
       " '__eq__',\n",
       " '__format__',\n",
       " '__ge__',\n",
       " '__getattribute__',\n",
       " '__getstate__',\n",
       " '__gt__',\n",
       " '__hash__',\n",
       " '__iand__',\n",
       " '__init__',\n",
       " '__init_subclass__',\n",
       " '__ior__',\n",
       " '__isub__',\n",
       " '__iter__',\n",
       " '__ixor__',\n",
       " '__le__',\n",
       " '__len__',\n",
       " '__lt__',\n",
       " '__ne__',\n",
       " '__new__',\n",
       " '__or__',\n",
       " '__rand__',\n",
       " '__reduce__',\n",
       " '__reduce_ex__',\n",
       " '__repr__',\n",
       " '__ror__',\n",
       " '__rsub__',\n",
       " '__rxor__',\n",
       " '__setattr__',\n",
       " '__sizeof__',\n",
       " '__str__',\n",
       " '__sub__',\n",
       " '__subclasshook__',\n",
       " '__xor__',\n",
       " 'add',\n",
       " 'clear',\n",
       " 'copy',\n",
       " 'difference',\n",
       " 'difference_update',\n",
       " 'discard',\n",
       " 'intersection',\n",
       " 'intersection_update',\n",
       " 'isdisjoint',\n",
       " 'issubset',\n",
       " 'issuperset',\n",
       " 'pop',\n",
       " 'remove',\n",
       " 'symmetric_difference',\n",
       " 'symmetric_difference_update',\n",
       " 'union',\n",
       " 'update']"
      ]
     },
     "execution_count": 21,
     "metadata": {},
     "output_type": "execute_result"
    }
   ],
   "source": [
    "dir(set)"
   ]
  },
  {
   "cell_type": "code",
   "execution_count": null,
   "id": "9a708500-b546-42ec-a775-6021df7354b7",
   "metadata": {},
   "outputs": [],
   "source": [
    "# all the above data type methods has 'iter' in them . \n",
    "# below 'int' data type does not have iter data type."
   ]
  },
  {
   "cell_type": "code",
   "execution_count": 22,
   "id": "b4da363e-75af-472c-9a0a-bd63c9575987",
   "metadata": {},
   "outputs": [
    {
     "data": {
      "text/plain": [
       "['__abs__',\n",
       " '__add__',\n",
       " '__and__',\n",
       " '__bool__',\n",
       " '__ceil__',\n",
       " '__class__',\n",
       " '__delattr__',\n",
       " '__dir__',\n",
       " '__divmod__',\n",
       " '__doc__',\n",
       " '__eq__',\n",
       " '__float__',\n",
       " '__floor__',\n",
       " '__floordiv__',\n",
       " '__format__',\n",
       " '__ge__',\n",
       " '__getattribute__',\n",
       " '__getnewargs__',\n",
       " '__getstate__',\n",
       " '__gt__',\n",
       " '__hash__',\n",
       " '__index__',\n",
       " '__init__',\n",
       " '__init_subclass__',\n",
       " '__int__',\n",
       " '__invert__',\n",
       " '__le__',\n",
       " '__lshift__',\n",
       " '__lt__',\n",
       " '__mod__',\n",
       " '__mul__',\n",
       " '__ne__',\n",
       " '__neg__',\n",
       " '__new__',\n",
       " '__or__',\n",
       " '__pos__',\n",
       " '__pow__',\n",
       " '__radd__',\n",
       " '__rand__',\n",
       " '__rdivmod__',\n",
       " '__reduce__',\n",
       " '__reduce_ex__',\n",
       " '__repr__',\n",
       " '__rfloordiv__',\n",
       " '__rlshift__',\n",
       " '__rmod__',\n",
       " '__rmul__',\n",
       " '__ror__',\n",
       " '__round__',\n",
       " '__rpow__',\n",
       " '__rrshift__',\n",
       " '__rshift__',\n",
       " '__rsub__',\n",
       " '__rtruediv__',\n",
       " '__rxor__',\n",
       " '__setattr__',\n",
       " '__sizeof__',\n",
       " '__str__',\n",
       " '__sub__',\n",
       " '__subclasshook__',\n",
       " '__truediv__',\n",
       " '__trunc__',\n",
       " '__xor__',\n",
       " 'as_integer_ratio',\n",
       " 'bit_count',\n",
       " 'bit_length',\n",
       " 'conjugate',\n",
       " 'denominator',\n",
       " 'from_bytes',\n",
       " 'imag',\n",
       " 'numerator',\n",
       " 'real',\n",
       " 'to_bytes']"
      ]
     },
     "execution_count": 22,
     "metadata": {},
     "output_type": "execute_result"
    }
   ],
   "source": [
    "dir(int)"
   ]
  },
  {
   "cell_type": "code",
   "execution_count": null,
   "id": "77bccfcc-d5f7-4b05-a170-3ca2c6a254d7",
   "metadata": {},
   "outputs": [],
   "source": [
    "# iteration can be performed on data types that have 'iter' method. 'iter' does iteration."
   ]
  },
  {
   "cell_type": "code",
   "execution_count": 23,
   "id": "307b56a7-0717-4069-b730-9d31dc3ad1cc",
   "metadata": {},
   "outputs": [
    {
     "name": "stdout",
     "output_type": "stream",
     "text": [
      "line 1\n",
      "line 2\n",
      "<class 'list'>\n",
      "['C:\\\\Users\\\\DR SHOEB\\\\anaconda3\\\\Lib\\\\site-packages\\\\ipykernel_launcher.py', '-f', 'C:\\\\Users\\\\DR SHOEB\\\\AppData\\\\Roaming\\\\jupyter\\\\runtime\\\\kernel-5a969525-b6f1-4d59-aa7b-02b3c4615191.json']\n"
     ]
    }
   ],
   "source": [
    "# below is to be performed on console, terminal.\n",
    "import sys\n",
    "\n",
    "print(\"line 1\")\n",
    "print(\"line 2\")\n",
    "\n",
    "print(type(sys.argv))\n",
    "print(sys.argv) # iterative data type\n",
    "# argv stands for argument value.  on zero index , we write filename(this is argument). then other arguements are custom defined , they are defined by user\n",
    "\n",
    "# on console write:\n",
    "(python) (filename) (pass anything. anything passed here, will be received) "
   ]
  },
  {
   "cell_type": "code",
   "execution_count": 25,
   "id": "0bf445aa-f6de-4205-98f9-5e681697d03b",
   "metadata": {},
   "outputs": [
    {
     "data": {
      "text/plain": [
       "<zip at 0x22ba48dfb00>"
      ]
     },
     "execution_count": 25,
     "metadata": {},
     "output_type": "execute_result"
    }
   ],
   "source": [
    "# ex\n",
    "names : list[str] = [\"a\",\"b\",\"c\"]\n",
    "fnames : list[str] = [\"x\",\"y\",\"z\"]\n",
    "ages : list[int] = [1,2,3]\n",
    "\n",
    "zip(names,fnames,ages) # the output is not proper because zip is a generative function.  iteration has to be done on zip so thar zip function can \n",
    "# execute."
   ]
  },
  {
   "cell_type": "code",
   "execution_count": 26,
   "id": "0e25878f-0a37-4c4f-80c4-d105458ef8c6",
   "metadata": {},
   "outputs": [
    {
     "data": {
      "text/plain": [
       "[('a', 'x', 1), ('b', 'y', 2), ('c', 'z', 3)]"
      ]
     },
     "execution_count": 26,
     "metadata": {},
     "output_type": "execute_result"
    }
   ],
   "source": [
    "# so to perform iteration on it we will put 'list' function on it.\n",
    "list(zip(names,fnames,ages))"
   ]
  },
  {
   "cell_type": "code",
   "execution_count": null,
   "id": "4ecfd1d3-3b5c-4e01-a2c2-edc74528edf6",
   "metadata": {},
   "outputs": [],
   "source": [
    "for name,fname,age in zip(names,fnames,ages):\n",
    "    print(f\"Welcome dear {name} , s/o {fname}!\")"
   ]
  },
  {
   "cell_type": "markdown",
   "id": "6074c564-14d6-4377-ac91-72459c3c6928",
   "metadata": {},
   "source": [
    "# while loop\n",
    "'''\n",
    "\n",
    "while logic : # True/False\n",
    "\n",
    "     loop_body\n",
    "'''"
   ]
  },
  {
   "cell_type": "code",
   "execution_count": null,
   "id": "52860922-d101-445c-b68d-e23e6dbe1cf1",
   "metadata": {},
   "outputs": [],
   "source": [
    "flag : bool = True\n",
    "while flag:\n",
    "    print(\"Pakistan\")\n",
    "# infinte loop"
   ]
  },
  {
   "cell_type": "code",
   "execution_count": null,
   "id": "52a034cb-297a-4293-8b08-cdfb5f6d3a06",
   "metadata": {},
   "outputs": [],
   "source": [
    "# to overcome infinite loop in above program\n",
    "flag : bool = True\n",
    "current_number : int = 1\n",
    "\n",
    "while flag :\n",
    "    print(\"Current number is : {current_number}\")\n",
    "    current_number += 1"
   ]
  },
  {
   "cell_type": "code",
   "execution_count": 2,
   "id": "61c3580f-8d3c-453d-b526-f172cb88255f",
   "metadata": {},
   "outputs": [
    {
     "name": "stdout",
     "output_type": "stream",
     "text": [
      "current number is : 1\n",
      "current number is : 2\n",
      "current number is : 3\n",
      "current number is : 4\n",
      "current number is : 5\n",
      "current number is : 6\n",
      "current number is : 7\n",
      "current number is : 8\n",
      "current number is : 9\n"
     ]
    }
   ],
   "source": [
    "flag : bool = True # flag\n",
    "\n",
    "current_number : int = 1\n",
    "while flag:\n",
    "    print(f\"current number is : {current_number}\")\n",
    "    current_number += 1\n",
    "    \n",
    "    if current_number == 10 : # flag fasle .        flag has to be false at some point.\n",
    "        break\n"
   ]
  },
  {
   "cell_type": "code",
   "execution_count": null,
   "id": "cd920d24-3293-4126-a120-ea3ba23a4311",
   "metadata": {},
   "outputs": [],
   "source": []
  }
 ],
 "metadata": {
  "kernelspec": {
   "display_name": "Python 3 (ipykernel)",
   "language": "python",
   "name": "python3"
  },
  "language_info": {
   "codemirror_mode": {
    "name": "ipython",
    "version": 3
   },
   "file_extension": ".py",
   "mimetype": "text/x-python",
   "name": "python",
   "nbconvert_exporter": "python",
   "pygments_lexer": "ipython3",
   "version": "3.11.7"
  }
 },
 "nbformat": 4,
 "nbformat_minor": 5
}
