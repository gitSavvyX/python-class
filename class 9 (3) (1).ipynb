{
 "cells": [
  {
   "cell_type": "code",
   "execution_count": 3,
   "id": "65c67e52-a572-47c7-9bc8-86378e1633f1",
   "metadata": {},
   "outputs": [
    {
     "name": "stdout",
     "output_type": "stream",
     "text": [
      "current index is 0 and list value is 100\n",
      "current index is 1 and list value is 200\n",
      "current index is 2 and list value is 300\n"
     ]
    }
   ],
   "source": [
    "l1 : list[int] = [100,200,300]\n",
    "index : int = 0\n",
    "while index < len(l1):\n",
    "    print(f\"current index is {index} and list value is {l1[index]}\")\n",
    "    index += 1\n"
   ]
  },
  {
   "cell_type": "code",
   "execution_count": 12,
   "id": "f02f90fd-becb-450d-9be4-42ed4fc197ad",
   "metadata": {},
   "outputs": [
    {
     "name": "stdout",
     "output_type": "stream",
     "text": [
      "Write quit or exit or stop to stop this program.\n"
     ]
    },
    {
     "name": "stdin",
     "output_type": "stream",
     "text": [
      "Your good name ? \t Areeba Amjad\n",
      "Your last education ? \t MBBS\n"
     ]
    },
    {
     "name": "stdout",
     "output_type": "stream",
     "text": [
      "Write quit or exit or stop to stop this program.\n"
     ]
    },
    {
     "name": "stdin",
     "output_type": "stream",
     "text": [
      "Your good name ? \t Hamza Ali\n",
      "Your last education ? \t Physician\n"
     ]
    },
    {
     "name": "stdout",
     "output_type": "stream",
     "text": [
      "Write quit or exit or stop to stop this program.\n"
     ]
    },
    {
     "name": "stdin",
     "output_type": "stream",
     "text": [
      "Your good name ? \t stop\n",
      "Your last education ? \t stop\n"
     ]
    },
    {
     "data": {
      "text/plain": [
       "[{'name': 'Areeba Amjad', 'education': 'MBBS'},\n",
       " {'name': 'Hamza Ali', 'education': 'Physician'}]"
      ]
     },
     "metadata": {},
     "output_type": "display_data"
    }
   ],
   "source": [
    "\n",
    "# database system / console system\n",
    "\n",
    "data : list[dict[str,str]] = []\n",
    "\n",
    "flag :bool = True\n",
    "\n",
    "while flag:\n",
    "    print(\"Write quit or exit or stop to stop this program.\")\n",
    "    name : str = input(\"Your good name ? \\t\")\n",
    "    education : str = input(\"Your last education ? \\t\")\n",
    "\n",
    "    if name in [\"stop\", \"exit\", \"quit\", \"close\"]  or education in [\"stop\", \"close\", \"exit\", \"quit\"]:\n",
    "       flag = False\n",
    "       break\n",
    "    data.append({\"name\": name , \"education\": education})\n",
    "\n",
    "display(data)\n",
    "    "
   ]
  },
  {
   "cell_type": "markdown",
   "id": "04ddd341-4407-4869-bfa7-bce4982543b1",
   "metadata": {},
   "source": [
    "# Controls\n",
    "* break\n",
    "* continue\n",
    "* pass"
   ]
  },
  {
   "cell_type": "code",
   "execution_count": 1,
   "id": "6c35a4e6-b1d0-4615-bad3-126d15b60efd",
   "metadata": {},
   "outputs": [
    {
     "name": "stdout",
     "output_type": "stream",
     "text": [
      "1\n",
      "2\n",
      "3\n",
      "4\n",
      "5\n"
     ]
    }
   ],
   "source": [
    "for i in range(1,11):\n",
    "    print(i)\n",
    "\n",
    "    if i == 5:\n",
    "        break"
   ]
  },
  {
   "cell_type": "code",
   "execution_count": 2,
   "id": "efbb5e33-bd05-47f3-b19a-c4b9b22d17a2",
   "metadata": {},
   "outputs": [
    {
     "name": "stdout",
     "output_type": "stream",
     "text": [
      "2 x 1 = 2\n"
     ]
    }
   ],
   "source": [
    "for i in range(1,11):\n",
    "    print(f\"2 x {i} = {2*i}\")\n",
    "    break\n",
    "    "
   ]
  },
  {
   "cell_type": "code",
   "execution_count": 3,
   "id": "ad9452a5-53a1-4736-8946-85f1b539be2c",
   "metadata": {},
   "outputs": [
    {
     "name": "stdout",
     "output_type": "stream",
     "text": [
      " 2 x 1 = 2\n",
      " 2 x 2 = 4\n",
      " 2 x 3 = 6\n",
      " 2 x 4 = 8\n",
      " 2 x 5 = 10\n",
      " 2 x 6 = 12\n",
      " 2 x 7 = 14\n",
      " 2 x 8 = 16\n",
      " 2 x 9 = 18\n",
      " 2 x 10 = 20\n"
     ]
    }
   ],
   "source": [
    "for i in range(1,11):\n",
    "    print(f\" 2 x {i} = {2*i}\")"
   ]
  },
  {
   "cell_type": "code",
   "execution_count": 4,
   "id": "e4c2e615-c7f2-4552-9bcf-e74bf6f6287d",
   "metadata": {},
   "outputs": [
    {
     "name": "stdout",
     "output_type": "stream",
     "text": [
      "1\n",
      "2\n",
      "3\n",
      "4\n",
      "6\n",
      "7\n",
      "8\n",
      "9\n",
      "10\n"
     ]
    }
   ],
   "source": [
    "for i in range(1,11):\n",
    "    if i == 5 :\n",
    "        continue\n",
    "    print(i)"
   ]
  },
  {
   "cell_type": "code",
   "execution_count": 5,
   "id": "f807744a-b43a-4fe6-ba88-2a19563178d1",
   "metadata": {},
   "outputs": [
    {
     "ename": "SyntaxError",
     "evalue": "incomplete input (595619927.py, line 2)",
     "output_type": "error",
     "traceback": [
      "\u001b[1;36m  Cell \u001b[1;32mIn[5], line 2\u001b[1;36m\u001b[0m\n\u001b[1;33m    \u001b[0m\n\u001b[1;37m    ^\u001b[0m\n\u001b[1;31mSyntaxError\u001b[0m\u001b[1;31m:\u001b[0m incomplete input\n"
     ]
    }
   ],
   "source": [
    "for i in range(1,1000):\n",
    "    "
   ]
  },
  {
   "cell_type": "code",
   "execution_count": 6,
   "id": "effeb3c9-e239-47de-98e4-281a48392209",
   "metadata": {},
   "outputs": [],
   "source": [
    "for i in range(1,1000):\n",
    "    pass"
   ]
  },
  {
   "cell_type": "code",
   "execution_count": null,
   "id": "00b6a70a-a48f-4eb9-b3e4-98ca2481f555",
   "metadata": {},
   "outputs": [],
   "source": [
    "while True:\n",
    "    pass  # dont run this code. it will result in infinite loop. !!"
   ]
  },
  {
   "cell_type": "code",
   "execution_count": 9,
   "id": "8743de09-139f-42f1-b1d9-8e48c0fb5701",
   "metadata": {},
   "outputs": [],
   "source": [
    "def abc( a : int , b : int): # this function will take integer and will return integer.\n",
    "   pass"
   ]
  },
  {
   "cell_type": "code",
   "execution_count": null,
   "id": "46b3d7e7-91dd-4c0d-a0c7-16278f3416eb",
   "metadata": {},
   "outputs": [],
   "source": [
    "# if we write a block and do not complete that block . it will result in error. to overcome this error we use 'pass'."
   ]
  },
  {
   "cell_type": "code",
   "execution_count": 10,
   "id": "d9d1f61b-421f-4563-8024-69a2dae065e1",
   "metadata": {},
   "outputs": [
    {
     "name": "stdout",
     "output_type": "stream",
     "text": [
      "pakistan\n",
      "bye bye\n"
     ]
    }
   ],
   "source": [
    "if True:\n",
    "    pass\n",
    "\n",
    "\n",
    "print(\"pakistan\")\n",
    "print(\"bye bye\")"
   ]
  },
  {
   "cell_type": "code",
   "execution_count": 13,
   "id": "9a040601-2779-488f-9a27-78f6b8ae0eec",
   "metadata": {},
   "outputs": [
    {
     "name": "stdout",
     "output_type": "stream",
     "text": [
      "pakistan\n",
      "bye bye\n"
     ]
    }
   ],
   "source": [
    "if True:\n",
    "\n",
    "\n",
    " print(\"pakistan\")\n",
    " print(\"bye bye\")"
   ]
  },
  {
   "cell_type": "code",
   "execution_count": 14,
   "id": "b7730e7e-6deb-4623-8c02-867313d44ec8",
   "metadata": {},
   "outputs": [
    {
     "ename": "IndentationError",
     "evalue": "expected an indented block after 'if' statement on line 1 (2238186235.py, line 4)",
     "output_type": "error",
     "traceback": [
      "\u001b[1;36m  Cell \u001b[1;32mIn[14], line 4\u001b[1;36m\u001b[0m\n\u001b[1;33m    print(\"pakistan\")\u001b[0m\n\u001b[1;37m    ^\u001b[0m\n\u001b[1;31mIndentationError\u001b[0m\u001b[1;31m:\u001b[0m expected an indented block after 'if' statement on line 1\n"
     ]
    }
   ],
   "source": [
    "if True:\n",
    "\n",
    "\n",
    "print(\"pakistan\")\n",
    "print(\"bye bye\") # error.          without pass their is error."
   ]
  },
  {
   "cell_type": "code",
   "execution_count": 17,
   "id": "18ad1386-e92a-4f6f-ad19-d00d2467ea0f",
   "metadata": {},
   "outputs": [
    {
     "name": "stdin",
     "output_type": "stream",
     "text": [
      "Your name ?  qasim\n"
     ]
    },
    {
     "name": "stdout",
     "output_type": "stream",
     "text": [
      "qasim\n"
     ]
    }
   ],
   "source": [
    "if True:\n",
    "    name : str = input( \"Your name ? \")\n",
    "    print(name)"
   ]
  },
  {
   "cell_type": "code",
   "execution_count": 18,
   "id": "e20c9fc0-dbcc-4491-a489-a0239d0082ab",
   "metadata": {},
   "outputs": [],
   "source": [
    "if False:\n",
    "    name : str = input(\"Your name ?\")\n",
    "    print(name)"
   ]
  },
  {
   "cell_type": "code",
   "execution_count": null,
   "id": "bfb1d26a-2472-4e21-b267-54800df37906",
   "metadata": {},
   "outputs": [],
   "source": [
    "# dir is global function that gives methods and attributes of an object"
   ]
  },
  {
   "cell_type": "code",
   "execution_count": 19,
   "id": "e63dc486-5587-4866-96f3-e80bc435e455",
   "metadata": {},
   "outputs": [
    {
     "name": "stdin",
     "output_type": "stream",
     "text": [
      "If you share your name , we can personalize the message you see.\n",
      " What is your first name? qasim\n"
     ]
    },
    {
     "name": "stdout",
     "output_type": "stream",
     "text": [
      "\n",
      " Hello qasim !\n"
     ]
    }
   ],
   "source": [
    "prompt = \"If you share your name , we can personalize the message you see.\"\n",
    "prompt += \"\\n What is your first name?\"\n",
    "\n",
    "name = input(prompt)\n",
    "\n",
    "print(f\"\\n Hello {name} !\")"
   ]
  },
  {
   "cell_type": "code",
   "execution_count": 20,
   "id": "ddecf6b5-0e32-41c4-964b-7e78d71cad7b",
   "metadata": {},
   "outputs": [
    {
     "name": "stdin",
     "output_type": "stream",
     "text": [
      " If you share your name, we can personalize the message you see.\n",
      "What is your first name?  Ali\n"
     ]
    },
    {
     "name": "stdout",
     "output_type": "stream",
     "text": [
      "Hello Ali !\n"
     ]
    }
   ],
   "source": [
    "# or 'prompt' variable can be written as\n",
    "\n",
    "prompt = \"\"\" If you share your name, we can personalize the message you see.\n",
    "What is your first name? \"\"\"\n",
    "\n",
    "name =  input(prompt)\n",
    "\n",
    "print(f\"Hello {name} !\")"
   ]
  },
  {
   "cell_type": "code",
   "execution_count": 32,
   "id": "17932234-e0b1-4af2-a685-19dde9bc213e",
   "metadata": {},
   "outputs": [
    {
     "name": "stdin",
     "output_type": "stream",
     "text": [
      " If you share your name , we can personalize the message you see .  What is your name ?  Salman\n"
     ]
    },
    {
     "name": "stdout",
     "output_type": "stream",
     "text": [
      "Hello Salman !\n"
     ]
    }
   ],
   "source": [
    "# or 'prompt' variable can be written as \n",
    "prompt = \" If you share your name , we can personalize the message you see .  \\\n",
    "What is your name ? \"\n",
    "\n",
    "# or\n",
    "#  prompt = \"\"\" If you share your name , we can personalize the message you see .  \\\n",
    "#   What is your name ? \"\"\"\n",
    "\n",
    " # or\n",
    "#  prompt = \"\"\" If you share your name , we can personalize the message you see .  \\n\n",
    "#   What is your name ? \"\"\"          # error\n",
    "\n",
    "\n",
    "# or\n",
    "#  prompt = \"\"\" If you share your name , we can personalize the message you see .  \\n \\\n",
    "#   What is your name ? \"\"\"          \n",
    "name = input(prompt)\n",
    "\n",
    "print(f\"Hello {name} !\")"
   ]
  },
  {
   "cell_type": "code",
   "execution_count": 27,
   "id": "f95f187e-c41c-4b4c-8e7e-bc30bb7fb29a",
   "metadata": {},
   "outputs": [
    {
     "name": "stdout",
     "output_type": "stream",
     "text": [
      "15\n"
     ]
    }
   ],
   "source": [
    "# ex\n",
    "print(1+7+3+4)\n"
   ]
  },
  {
   "cell_type": "code",
   "execution_count": 28,
   "id": "bba469f1-b635-4e8d-b972-d927089c136f",
   "metadata": {},
   "outputs": [
    {
     "name": "stdout",
     "output_type": "stream",
     "text": [
      "15\n"
     ]
    }
   ],
   "source": [
    "# ex\n",
    "# or\n",
    "print(1+7 \\\n",
    "     + 3 \\\n",
    "      + 4\n",
    "     )"
   ]
  },
  {
   "cell_type": "code",
   "execution_count": 34,
   "id": "2ce02c3d-f734-4f8d-a6dc-56c2202d5667",
   "metadata": {},
   "outputs": [
    {
     "name": "stdin",
     "output_type": "stream",
     "text": [
      "How old are you ? 11\n"
     ]
    },
    {
     "data": {
      "text/plain": [
       "'11'"
      ]
     },
     "execution_count": 34,
     "metadata": {},
     "output_type": "execute_result"
    }
   ],
   "source": [
    "age = input(\"How old are you ?\")\n",
    "age"
   ]
  },
  {
   "cell_type": "code",
   "execution_count": 35,
   "id": "e95618f5-bd59-4362-baec-0284f068d79b",
   "metadata": {},
   "outputs": [
    {
     "name": "stdin",
     "output_type": "stream",
     "text": [
      "How old are you ? 3300\n"
     ]
    }
   ],
   "source": [
    "age = input(\"How old are you ?\")"
   ]
  },
  {
   "cell_type": "code",
   "execution_count": 38,
   "id": "f62d4467-2252-45f1-89a0-e2dec28a1a41",
   "metadata": {},
   "outputs": [
    {
     "name": "stdin",
     "output_type": "stream",
     "text": [
      "What is your age ? 22\n"
     ]
    },
    {
     "ename": "TypeError",
     "evalue": "'>=' not supported between instances of 'str' and 'int'",
     "output_type": "error",
     "traceback": [
      "\u001b[1;31m---------------------------------------------------------------------------\u001b[0m",
      "\u001b[1;31mTypeError\u001b[0m                                 Traceback (most recent call last)",
      "Cell \u001b[1;32mIn[38], line 3\u001b[0m\n\u001b[0;32m      1\u001b[0m \u001b[38;5;66;03m# 'input()' function returns string.\u001b[39;00m\n\u001b[0;32m      2\u001b[0m age : \u001b[38;5;28mstr\u001b[39m \u001b[38;5;241m=\u001b[39m \u001b[38;5;28minput\u001b[39m(\u001b[38;5;124m\"\u001b[39m\u001b[38;5;124mWhat is your age ?\u001b[39m\u001b[38;5;124m\"\u001b[39m)\n\u001b[1;32m----> 3\u001b[0m \u001b[38;5;28;01mif\u001b[39;00m age \u001b[38;5;241m>\u001b[39m\u001b[38;5;241m=\u001b[39m \u001b[38;5;241m18\u001b[39m :\n\u001b[0;32m      4\u001b[0m     \u001b[38;5;28mprint\u001b[39m(\u001b[38;5;124m\"\u001b[39m\u001b[38;5;124mYou are eligible to vote .\u001b[39m\u001b[38;5;124m\"\u001b[39m)\n",
      "\u001b[1;31mTypeError\u001b[0m: '>=' not supported between instances of 'str' and 'int'"
     ]
    }
   ],
   "source": [
    "# 'input()' function returns string.\n",
    "age : str = input(\"What is your age ?\")\n",
    "if age >= 18 :\n",
    "    print(\"You are eligible to vote .\") # error . here we entered int data type      and 'age' variable (using input function) returns string type.so\n",
    "    # there is error.\n"
   ]
  },
  {
   "cell_type": "code",
   "execution_count": 41,
   "id": "51a2ccba-588d-41d6-9117-2f165b982445",
   "metadata": {},
   "outputs": [
    {
     "name": "stdin",
     "output_type": "stream",
     "text": [
      "What is your age ? 22\n"
     ]
    },
    {
     "name": "stdout",
     "output_type": "stream",
     "text": [
      "You are eligible to vote . \n"
     ]
    }
   ],
   "source": [
    "# to remove this error , do type casting.\n",
    "age : int = int(input(\"What is your age ?\"))\n",
    "if age >= 18 :\n",
    "    print(\"You are eligible to vote . \")"
   ]
  },
  {
   "cell_type": "code",
   "execution_count": 42,
   "id": "29f8ebb3-7950-4649-b6a8-9a2a710eb08a",
   "metadata": {},
   "outputs": [
    {
     "name": "stdin",
     "output_type": "stream",
     "text": [
      "How old are you ? 33\n"
     ]
    },
    {
     "data": {
      "text/plain": [
       "True"
      ]
     },
     "execution_count": 42,
     "metadata": {},
     "output_type": "execute_result"
    }
   ],
   "source": [
    "age : int = int(input(\"How old are you ?\"))\n",
    "age >= 18"
   ]
  },
  {
   "cell_type": "code",
   "execution_count": 46,
   "id": "7de30548-7b82-49f8-a758-379f3979ecca",
   "metadata": {},
   "outputs": [
    {
     "name": "stdin",
     "output_type": "stream",
     "text": [
      "How tall are you in inches ?  47\n"
     ]
    },
    {
     "name": "stdout",
     "output_type": "stream",
     "text": [
      "You'll be able to ride when you're a little older .\n"
     ]
    }
   ],
   "source": [
    "height = input(\"How tall are you in inches ? \")\n",
    "height = int(height)\n",
    "\n",
    "if height >= 48 :\n",
    "    print(\"You're tall enough to ride ! \")\n",
    "else :\n",
    "    print(\"You'll be able to ride when you're a little older .\")"
   ]
  },
  {
   "cell_type": "code",
   "execution_count": 47,
   "id": "15781e6e-b54f-4a79-a35f-df9fbdfaf45f",
   "metadata": {},
   "outputs": [
    {
     "data": {
      "text/plain": [
       "1"
      ]
     },
     "execution_count": 47,
     "metadata": {},
     "output_type": "execute_result"
    }
   ],
   "source": [
    "# the modulus operator '%' . (modulus is remainder.)\n",
    "4 % 3"
   ]
  },
  {
   "cell_type": "code",
   "execution_count": 52,
   "id": "e2d42515-3fff-4d12-bd20-ba9e5b5f37bd",
   "metadata": {},
   "outputs": [
    {
     "name": "stdout",
     "output_type": "stream",
     "text": [
      "2\n",
      "0\n",
      "1\n"
     ]
    }
   ],
   "source": [
    "a = 5 % 3\n",
    "print(a)\n",
    "\n",
    "b = 6 % 2\n",
    "print(b)\n",
    "\n",
    "c = 7 % 3\n",
    "print(c)"
   ]
  },
  {
   "cell_type": "code",
   "execution_count": 56,
   "id": "1feb0e84-c4ae-4864-8c53-06b0148e11b5",
   "metadata": {},
   "outputs": [
    {
     "data": {
      "text/plain": [
       "[6, 6, 6, 18]"
      ]
     },
     "execution_count": 56,
     "metadata": {},
     "output_type": "execute_result"
    }
   ],
   "source": [
    "# extracting even numbers from a list\n",
    "\n",
    "data : list[int] = [1,3,5,6,6,6,3,15,18]\n",
    "# extract even numbers from this list\n",
    "[i for i in data if i%2==0 ]"
   ]
  },
  {
   "cell_type": "code",
   "execution_count": 59,
   "id": "d5ce9329-6de4-4a5b-923e-a18ff94be70e",
   "metadata": {},
   "outputs": [
    {
     "data": {
      "text/plain": [
       "[1, 3, 5, 3, 15]"
      ]
     },
     "execution_count": 59,
     "metadata": {},
     "output_type": "execute_result"
    }
   ],
   "source": [
    "# extracting odd numbers from  a list\n",
    "\n",
    "data : list[int] = [1,3,5,6,6,3,15,18]\n",
    "#extract odd numbers from this list\n",
    "[i for i in data if i%2 != 0]  # list comprehensive"
   ]
  },
  {
   "cell_type": "code",
   "execution_count": 60,
   "id": "a0e805d5-c390-4079-a566-d14f3d860706",
   "metadata": {},
   "outputs": [
    {
     "data": {
      "text/plain": [
       "[1, 3, 5, 3, 15]"
      ]
     },
     "execution_count": 60,
     "metadata": {},
     "output_type": "execute_result"
    }
   ],
   "source": [
    "# ex   or\n",
    "data : list[int] = [1,3,5,6,6,3,15,18]\n",
    "[i for i in data if i%2 == 1]"
   ]
  },
  {
   "cell_type": "code",
   "execution_count": 63,
   "id": "609587ea-7fa6-4221-be6b-7d0d63da3120",
   "metadata": {},
   "outputs": [
    {
     "name": "stdin",
     "output_type": "stream",
     "text": [
      "Enter a number and I'll tell you whether it is even or odd. 22\n"
     ]
    },
    {
     "name": "stdout",
     "output_type": "stream",
     "text": [
      "\n",
      "The number 22 is even.\n"
     ]
    }
   ],
   "source": [
    "number = input(\"Enter a number and I'll tell you whether it is even or odd.\")\n",
    "number = int(number)\n",
    "if number % 2 == 0 :\n",
    "    print(f\"\\nThe number {number} is even.\")\n",
    "else:\n",
    "    print(f\"\\nThe number {number} is odd.\")"
   ]
  },
  {
   "cell_type": "code",
   "execution_count": 70,
   "id": "70e038d4-c4b1-4716-a3dc-5acfaa6a5fc9",
   "metadata": {},
   "outputs": [
    {
     "name": "stdout",
     "output_type": "stream",
     "text": [
      "1\n",
      "2\n",
      "3\n",
      "4\n",
      "5\n"
     ]
    }
   ],
   "source": [
    "current_number = 1\n",
    "while current_number <= 5 :\n",
    "    print(current_number)\n",
    "    current_number += 1"
   ]
  },
  {
   "cell_type": "code",
   "execution_count": 71,
   "id": "bf9ea713-6f24-466a-8ccd-e7660971e40e",
   "metadata": {},
   "outputs": [
    {
     "name": "stdout",
     "output_type": "stream",
     "text": [
      "3\n",
      "4\n",
      "5\n"
     ]
    }
   ],
   "source": [
    "current_number = 3\n",
    "while current_number <= 5 :\n",
    "    print(current_number)\n",
    "    current_number += 1"
   ]
  },
  {
   "cell_type": "code",
   "execution_count": 75,
   "id": "42e47822-3630-4bfb-8c8e-075d067b0199",
   "metadata": {},
   "outputs": [
    {
     "name": "stdin",
     "output_type": "stream",
     "text": [
      "\n",
      "Tell me something and I will repeat it back to you : \n",
      "Enter 'quit' to end the program .  hi\n"
     ]
    },
    {
     "name": "stdout",
     "output_type": "stream",
     "text": [
      "hi\n"
     ]
    },
    {
     "name": "stdin",
     "output_type": "stream",
     "text": [
      "\n",
      "Tell me something and I will repeat it back to you : \n",
      "Enter 'quit' to end the program .  how are you?\n"
     ]
    },
    {
     "name": "stdout",
     "output_type": "stream",
     "text": [
      "how are you?\n"
     ]
    },
    {
     "name": "stdin",
     "output_type": "stream",
     "text": [
      "\n",
      "Tell me something and I will repeat it back to you : \n",
      "Enter 'quit' to end the program .  AOA\n"
     ]
    },
    {
     "name": "stdout",
     "output_type": "stream",
     "text": [
      "AOA\n"
     ]
    },
    {
     "name": "stdin",
     "output_type": "stream",
     "text": [
      "\n",
      "Tell me something and I will repeat it back to you : \n",
      "Enter 'quit' to end the program .  how are your kids doing?\n"
     ]
    },
    {
     "name": "stdout",
     "output_type": "stream",
     "text": [
      "how are your kids doing?\n"
     ]
    },
    {
     "name": "stdin",
     "output_type": "stream",
     "text": [
      "\n",
      "Tell me something and I will repeat it back to you : \n",
      "Enter 'quit' to end the program .  quit\n"
     ]
    },
    {
     "name": "stdout",
     "output_type": "stream",
     "text": [
      "quit\n"
     ]
    }
   ],
   "source": [
    "prompt = \"\\nTell me something and I will repeat it back to you : \"\n",
    "prompt += \"\\nEnter 'quit' to end the program . \"\n",
    "\n",
    "message = \" \"\n",
    "while message != 'quit' :\n",
    "    message = input(prompt)\n",
    "    print(message)"
   ]
  },
  {
   "cell_type": "code",
   "execution_count": 80,
   "id": "a08c51e0-a3ff-4b24-93ed-25a96b93d53a",
   "metadata": {},
   "outputs": [
    {
     "name": "stdin",
     "output_type": "stream",
     "text": [
      "\n",
      "Tell me something and I will repeat it back to you.\n",
      "Enter 'quit' to end the program. hi\n"
     ]
    },
    {
     "name": "stdout",
     "output_type": "stream",
     "text": [
      "hi\n"
     ]
    },
    {
     "name": "stdin",
     "output_type": "stream",
     "text": [
      "\n",
      "Tell me something and I will repeat it back to you.\n",
      "Enter 'quit' to end the program. hello\n"
     ]
    },
    {
     "name": "stdout",
     "output_type": "stream",
     "text": [
      "hello\n"
     ]
    },
    {
     "name": "stdin",
     "output_type": "stream",
     "text": [
      "\n",
      "Tell me something and I will repeat it back to you.\n",
      "Enter 'quit' to end the program. quit\n"
     ]
    },
    {
     "name": "stdout",
     "output_type": "stream",
     "text": [
      "quit\n"
     ]
    }
   ],
   "source": [
    "# using 'flag'\n",
    "prompt = \"\\nTell me something and I will repeat it back to you.\"\n",
    "prompt += \"\\nEnter 'quit' to end the program.\"\n",
    "active = True\n",
    "while active:\n",
    "    message = input(prompt)\n",
    "    print(message)\n",
    "    if message == 'quit':\n",
    "        active = False\n",
    "    \n",
    "    "
   ]
  },
  {
   "cell_type": "code",
   "execution_count": 81,
   "id": "4e9aa0ba-d96c-43a4-9b85-9c6477ede38b",
   "metadata": {},
   "outputs": [
    {
     "name": "stdin",
     "output_type": "stream",
     "text": [
      "\n",
      "Tell me something and I will repeat it back to you.\n",
      "Enter quit to end the program. hi\n"
     ]
    },
    {
     "name": "stdout",
     "output_type": "stream",
     "text": [
      "hi\n"
     ]
    },
    {
     "name": "stdin",
     "output_type": "stream",
     "text": [
      "\n",
      "Tell me something and I will repeat it back to you.\n",
      "Enter quit to end the program. aoa\n"
     ]
    },
    {
     "name": "stdout",
     "output_type": "stream",
     "text": [
      "aoa\n"
     ]
    },
    {
     "name": "stdin",
     "output_type": "stream",
     "text": [
      "\n",
      "Tell me something and I will repeat it back to you.\n",
      "Enter quit to end the program. how are you?\n"
     ]
    },
    {
     "name": "stdout",
     "output_type": "stream",
     "text": [
      "how are you?\n"
     ]
    },
    {
     "name": "stdin",
     "output_type": "stream",
     "text": [
      "\n",
      "Tell me something and I will repeat it back to you.\n",
      "Enter quit to end the program. how are your kids doing?\n"
     ]
    },
    {
     "name": "stdout",
     "output_type": "stream",
     "text": [
      "how are your kids doing?\n"
     ]
    },
    {
     "name": "stdin",
     "output_type": "stream",
     "text": [
      "\n",
      "Tell me something and I will repeat it back to you.\n",
      "Enter quit to end the program. quit\n"
     ]
    }
   ],
   "source": [
    "# or\n",
    "prompt : str = \"\\nTell me something and I will repeat it back to you.\"\n",
    "prompt += \"\\nEnter quit to end the program.\"\n",
    "active = True\n",
    "while active:\n",
    "    message = input(prompt)\n",
    "\n",
    "    if message == \"quit\" :\n",
    "        active = False\n",
    "    else:\n",
    "        print(message)\n",
    "        \n",
    "    "
   ]
  },
  {
   "cell_type": "code",
   "execution_count": 87,
   "id": "7d30c7c9-a9d2-45d5-acbf-76c71b4c7ce8",
   "metadata": {},
   "outputs": [
    {
     "name": "stdin",
     "output_type": "stream",
     "text": [
      "Please enter the name of a city you have visited.Enter 'quit' when you are finished. Paris\n"
     ]
    },
    {
     "name": "stdout",
     "output_type": "stream",
     "text": [
      "I would love to go to Paris ! \n"
     ]
    },
    {
     "name": "stdin",
     "output_type": "stream",
     "text": [
      "Please enter the name of a city you have visited.Enter 'quit' when you are finished. Beijing\n"
     ]
    },
    {
     "name": "stdout",
     "output_type": "stream",
     "text": [
      "I would love to go to Beijing ! \n"
     ]
    },
    {
     "name": "stdin",
     "output_type": "stream",
     "text": [
      "Please enter the name of a city you have visited.Enter 'quit' when you are finished. quit\n"
     ]
    },
    {
     "name": "stdout",
     "output_type": "stream",
     "text": [
      "I would love to go to quit ! \n"
     ]
    }
   ],
   "source": [
    "# using 'break' to exit a loop\n",
    "prompt = \"Please enter the name of a city you have visited.\"\n",
    "prompt += \"Enter 'quit' when you are finished.\"\n",
    "\n",
    "while True:\n",
    "    city = input(prompt)\n",
    "    print(f\"I would love to go to {city} ! \")\n",
    "    if city == \"quit\":\n",
    "        break\n",
    "    "
   ]
  },
  {
   "cell_type": "code",
   "execution_count": 86,
   "id": "baa51395-e795-4d68-beb5-dc85f91f76ea",
   "metadata": {},
   "outputs": [
    {
     "name": "stdin",
     "output_type": "stream",
     "text": [
      "\n",
      "Please enter the name of a city you have visited.\n",
      "Enter 'quit' when you are finished. Karachi\n"
     ]
    },
    {
     "name": "stdout",
     "output_type": "stream",
     "text": [
      "I would love to go to Karachi!\n"
     ]
    },
    {
     "name": "stdin",
     "output_type": "stream",
     "text": [
      "\n",
      "Please enter the name of a city you have visited.\n",
      "Enter 'quit' when you are finished. Wah Cantt\n"
     ]
    },
    {
     "name": "stdout",
     "output_type": "stream",
     "text": [
      "I would love to go to Wah Cantt!\n"
     ]
    },
    {
     "name": "stdin",
     "output_type": "stream",
     "text": [
      "\n",
      "Please enter the name of a city you have visited.\n",
      "Enter 'quit' when you are finished. Multan\n"
     ]
    },
    {
     "name": "stdout",
     "output_type": "stream",
     "text": [
      "I would love to go to Multan!\n"
     ]
    },
    {
     "name": "stdin",
     "output_type": "stream",
     "text": [
      "\n",
      "Please enter the name of a city you have visited.\n",
      "Enter 'quit' when you are finished. Quetta\n"
     ]
    },
    {
     "name": "stdout",
     "output_type": "stream",
     "text": [
      "I would love to go to Quetta!\n"
     ]
    },
    {
     "name": "stdin",
     "output_type": "stream",
     "text": [
      "\n",
      "Please enter the name of a city you have visited.\n",
      "Enter 'quit' when you are finished. Para Chinar\n"
     ]
    },
    {
     "name": "stdout",
     "output_type": "stream",
     "text": [
      "I would love to go to Para Chinar!\n"
     ]
    },
    {
     "name": "stdin",
     "output_type": "stream",
     "text": [
      "\n",
      "Please enter the name of a city you have visited.\n",
      "Enter 'quit' when you are finished. quit\n"
     ]
    }
   ],
   "source": [
    "# or\n",
    "prompt = \"\\nPlease enter the name of a city you have visited.\"\n",
    "prompt += \"\\nEnter 'quit' when you are finished.\"\n",
    "\n",
    "while True:\n",
    "    city = input(prompt)\n",
    "\n",
    "    if city == \"quit\":\n",
    "        break\n",
    "    else:\n",
    "        print(f\"I would love to go to {city}!\")\n",
    "    "
   ]
  },
  {
   "cell_type": "code",
   "execution_count": null,
   "id": "cd055a12-d626-43b6-8452-98b36636f10a",
   "metadata": {},
   "outputs": [],
   "source": [
    "# using 'continue' in a loop\n",
    "current_number = 3\n",
    "while current_number < 10 :\n",
    "    if current_number % 2 == 0 :\n",
    "        continue\n",
    "        \n",
    "print(current_number)"
   ]
  },
  {
   "cell_type": "raw",
   "id": "4398fcba-1b4c-478d-871b-75cff6b8e078",
   "metadata": {},
   "source": [
    "print(\"dsfdsf\")        # !!!!!!!!!!!!!"
   ]
  },
  {
   "cell_type": "code",
   "execution_count": null,
   "id": "78f9941d-c25f-4f11-8786-c9bf659a5d9f",
   "metadata": {},
   "outputs": [],
   "source": [
    "# #############################################\n"
   ]
  },
  {
   "cell_type": "code",
   "execution_count": 1,
   "id": "ae8ff2f0-81b1-4d8f-88ac-d4270b3eb9b0",
   "metadata": {},
   "outputs": [
    {
     "name": "stdout",
     "output_type": "stream",
     "text": [
      "fdsfsgs\n"
     ]
    }
   ],
   "source": [
    "print(\"fdsfsgs\")"
   ]
  },
  {
   "cell_type": "code",
   "execution_count": null,
   "id": "1a402800-4667-4825-8b31-4bde3baa98ea",
   "metadata": {},
   "outputs": [],
   "source": []
  },
  {
   "cell_type": "code",
   "execution_count": null,
   "id": "b59567b5-7e23-4baa-9095-68563d846446",
   "metadata": {},
   "outputs": [],
   "source": []
  }
 ],
 "metadata": {
  "kernelspec": {
   "display_name": "Python 3 (ipykernel)",
   "language": "python",
   "name": "python3"
  },
  "language_info": {
   "codemirror_mode": {
    "name": "ipython",
    "version": 3
   },
   "file_extension": ".py",
   "mimetype": "text/x-python",
   "name": "python",
   "nbconvert_exporter": "python",
   "pygments_lexer": "ipython3",
   "version": "3.11.7"
  }
 },
 "nbformat": 4,
 "nbformat_minor": 5
}
