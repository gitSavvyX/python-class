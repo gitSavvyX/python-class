{
 "cells": [
  {
   "cell_type": "markdown",
   "id": "9f923071-f54c-43d3-8320-4acfb87e67f8",
   "metadata": {},
   "source": [
    "# Chapter#3 : Introducing Lists"
   ]
  },
  {
   "cell_type": "markdown",
   "id": "53b746ef-671a-400e-bc8e-b98ad53e8788",
   "metadata": {},
   "source": [
    "## Exercise 3.1 : Names"
   ]
  },
  {
   "cell_type": "code",
   "execution_count": 156,
   "id": "e8e9c28d-36c9-4a3c-bc54-b055a6b98245",
   "metadata": {},
   "outputs": [
    {
     "name": "stdout",
     "output_type": "stream",
     "text": [
      "Hajrah\n",
      "Aleena\n",
      "Mehwish\n",
      "Fatima\n"
     ]
    }
   ],
   "source": [
    "names = [\"Hajrah\", \"Aleena\", \"Mehwish\", \"Fatima\"]\n",
    "for name in names:\n",
    "    print(name)"
   ]
  },
  {
   "cell_type": "markdown",
   "id": "7f2f6385-6341-4525-9b2e-1970be33f5f8",
   "metadata": {},
   "source": [
    "## Exercise 3.2 : Greetings"
   ]
  },
  {
   "cell_type": "code",
   "execution_count": 157,
   "id": "98d80927-323f-4d4b-aa47-ccf616ebcbf0",
   "metadata": {},
   "outputs": [
    {
     "name": "stdout",
     "output_type": "stream",
     "text": [
      "Aoa , how are you Hajrah ? \n",
      "Aoa , how are you Aleena ? \n",
      "Aoa , how are you Mehwish ? \n",
      "Aoa , how are you Fatima ? \n"
     ]
    }
   ],
   "source": [
    "names = [\"Hajrah\",\"Aleena\", \"Mehwish\", \"Fatima\"]\n",
    "for name in names:\n",
    "    print(f\"Aoa , how are you {name} ? \")"
   ]
  },
  {
   "cell_type": "markdown",
   "id": "152d4abf-8e3b-4483-9d2f-736b37328306",
   "metadata": {},
   "source": [
    "## Exercise 3.3 : Your Own List"
   ]
  },
  {
   "cell_type": "code",
   "execution_count": 158,
   "id": "b35ffda1-b9ba-44c3-b7e8-2df482d6e0d8",
   "metadata": {},
   "outputs": [
    {
     "name": "stdout",
     "output_type": "stream",
     "text": [
      "I would love to own a black Toyota . \n",
      "Tesla is a computer on wheels , its a wonderful car ! \n",
      "A lot of people don't like Suzuki Mehran.\n",
      "Cybertruck is a scary car but it is cute . \n"
     ]
    }
   ],
   "source": [
    "cars = [\"Honda\", \"Toyota\", \"Tesla\", \"Mercedes\",\"Suzuki\", \"Cybertruck\"]\n",
    "print(f\"I would love to own a black {cars[1]} . \")\n",
    "print(f\"{cars[2].title()} is a computer on wheels , its a wonderful car ! \")\n",
    "print(f\"A lot of people don't like {cars[4]} Mehran.\")\n",
    "print(f\"{cars[-1]} is a scary car but it is cute . \")"
   ]
  },
  {
   "cell_type": "markdown",
   "id": "b2ad697f-45d7-499b-8873-f34d6a293d77",
   "metadata": {},
   "source": [
    "## Exercise 3.4 : Guest List"
   ]
  },
  {
   "cell_type": "code",
   "execution_count": 159,
   "id": "9de2c473-ac88-445d-9d73-c6380a862584",
   "metadata": {},
   "outputs": [
    {
     "name": "stdout",
     "output_type": "stream",
     "text": [
      "I would like to have dinner with you Andrew Tate. It would be such a pleasure. You are a treasure.\n",
      "I would like to have dinner with you Lata Mangaeshkar. It would be such a pleasure. You are a treasure.\n",
      "I would like to have dinner with you Brooklyn Grock. It would be such a pleasure. You are a treasure.\n",
      "I would like to have dinner with you Grimes. It would be such a pleasure. You are a treasure.\n",
      "Andrew Tate won't be able to make it , he is on house arrest .\n"
     ]
    }
   ],
   "source": [
    "guest_list = [\"Andrew Tate\", \"Lata Mangaeshkar\", \"Brooklyn Grock\" , \"Grimes\"]\n",
    "for guest in guest_list :\n",
    "    print(f\"I would like to have dinner with you {guest}. It would be such a pleasure. You are a treasure.\")\n",
    "\n",
    "print(\"Andrew Tate won't be able to make it , he is on house arrest .\")"
   ]
  },
  {
   "cell_type": "markdown",
   "id": "ffd3f5a9-598b-4a32-aaa2-aecda894839d",
   "metadata": {},
   "source": [
    "## Exercise 3.5 : Changing Guest List"
   ]
  },
  {
   "cell_type": "code",
   "execution_count": 160,
   "id": "3976f3e9-1fdb-4b3c-9587-2131fb82beab",
   "metadata": {},
   "outputs": [
    {
     "name": "stdout",
     "output_type": "stream",
     "text": [
      "I would like to have you Tristan Tate for dinner tonight , we'll have a wonderful converation.\n",
      "I would like to have you Lata Mangaeshkar for dinner tonight , we'll have a wonderful converation.\n",
      "I would like to have you Brooklyn Grock for dinner tonight , we'll have a wonderful converation.\n",
      "I would like to have you Grimes for dinner tonight , we'll have a wonderful converation.\n"
     ]
    }
   ],
   "source": [
    "guest_list[0] = \"Tristan Tate\"\n",
    "for guest in guest_list:\n",
    "    print(f\"I would like to have you {guest} for dinner tonight , we'll have a wonderful converation.\")"
   ]
  },
  {
   "cell_type": "markdown",
   "id": "422bbb9b-8a20-4495-9146-1b0d370b1ea3",
   "metadata": {},
   "source": [
    "## Exercise 3.6 : More Guests"
   ]
  },
  {
   "cell_type": "code",
   "execution_count": 161,
   "id": "ae908d78-f867-430b-8af9-aa5599667fd9",
   "metadata": {},
   "outputs": [
    {
     "name": "stdout",
     "output_type": "stream",
     "text": [
      "I would like to have you Tristan Tate for dinner tonight , we'll have a wonderful converation.\n",
      "I would like to have you Lata Mangaeshkar for dinner tonight , we'll have a wonderful converation.\n",
      "I would like to have you Brooklyn Grock for dinner tonight , we'll have a wonderful converation.\n",
      "I would like to have you Grimes for dinner tonight , we'll have a wonderful converation.\n",
      "\n",
      "     I found a bigger dining table ! So now more people can come to my dinner part horray !!  \n"
     ]
    }
   ],
   "source": [
    "guest_list[0] = \"Tristan Tate\"\n",
    "for guest in guest_list:\n",
    "    print(f\"I would like to have you {guest} for dinner tonight , we'll have a wonderful converation.\")\n",
    "\n",
    "print(\"\\n     I found a bigger dining table ! So now more people can come to my dinner part horray !!  \")"
   ]
  },
  {
   "cell_type": "code",
   "execution_count": 162,
   "id": "312e40df-5510-47f4-a586-f7fcc622226f",
   "metadata": {},
   "outputs": [
    {
     "name": "stdout",
     "output_type": "stream",
     "text": [
      "Hello, Candace Owens ! \n",
      " \tI hope you are doing well. Let me know if you free. \n",
      "\n",
      "Hello, Tristan Tate ! \n",
      " \tI hope you are doing well. Let me know if you free. \n",
      "\n",
      "Hello, Lata Mangaeshkar ! \n",
      " \tI hope you are doing well. Let me know if you free. \n",
      "\n",
      "Hello, Yasra Rizwi ! \n",
      " \tI hope you are doing well. Let me know if you free. \n",
      "\n",
      "Hello, Brooklyn Grock ! \n",
      " \tI hope you are doing well. Let me know if you free. \n",
      "\n",
      "Hello, Grimes ! \n",
      " \tI hope you are doing well. Let me know if you free. \n",
      "\n",
      "Hello, Gabi ! \n",
      " \tI hope you are doing well. Let me know if you free. \n",
      "\n"
     ]
    }
   ],
   "source": [
    "guest_list.insert(0,\"Candace Owens\")\n",
    "guest_list.insert(3, \"Yasra Rizwi\")\n",
    "guest_list.append(\"Gabi\")\n",
    "for guest in guest_list:\n",
    "    print(f\"Hello, {guest.title()} ! \")\n",
    "    print(\" \\tI hope you are doing well. Let me know if you free. \\n\")"
   ]
  },
  {
   "cell_type": "markdown",
   "id": "cc6b9a80-6d84-4d62-87cc-7d6deef91619",
   "metadata": {},
   "source": [
    "## Exercise 3.7 : Shrinking Guest List"
   ]
  },
  {
   "cell_type": "code",
   "execution_count": 163,
   "id": "71a040ee-7ff8-4b90-bb50-a142f6b82bb7",
   "metadata": {},
   "outputs": [
    {
     "name": "stdout",
     "output_type": "stream",
     "text": [
      "Sorry for the inconvience , I can only invite some of you for dinner , only two persons. \n"
     ]
    }
   ],
   "source": [
    "print(\"Sorry for the inconvience , I can only invite some of you for dinner , only two persons. \")"
   ]
  },
  {
   "cell_type": "code",
   "execution_count": 164,
   "id": "def8bb05-d7a5-4b9c-b2f9-7012d9d4cb52",
   "metadata": {},
   "outputs": [
    {
     "name": "stdout",
     "output_type": "stream",
     "text": [
      "My original guest list :\n",
      "\t ['Candace Owens', 'Tristan Tate', 'Lata Mangaeshkar', 'Yasra Rizwi', 'Brooklyn Grock', 'Grimes', 'Gabi']\n",
      "Due to unconveinice , I can invite only two people for dinner. I am sorry.\n",
      "\n",
      "\n",
      "Sorry Candace Owens , I couldn't invite you to dinner.\n",
      "\tRemaining people : ['Tristan Tate', 'Lata Mangaeshkar', 'Yasra Rizwi', 'Brooklyn Grock', 'Grimes', 'Gabi']\n",
      "\n",
      "\n",
      "Sorry , Tristan Tate , I couldn't invite you to dinner.\n",
      "\tRemainig people : ['Lata Mangaeshkar', 'Yasra Rizwi', 'Brooklyn Grock', 'Grimes', 'Gabi']\n",
      "\n",
      "\n",
      "Sorry Brooklyn Grock , I couldn't invite you to dinner.\n",
      "\tRemainig people : ['Lata Mangaeshkar', 'Yasra Rizwi', 'Grimes', 'Gabi']\n",
      "\n",
      "\n",
      "Sorry Gabi , I c couldn't invite you for dinner.\n",
      "\tRemaining people : ['Lata Mangaeshkar', 'Yasra Rizwi', 'Grimes']\n",
      "\n",
      "\n",
      "Sorry Grimes , I c couldn't invite you for dinner.\n",
      "\tRemaining people : ['Lata Mangaeshkar', 'Yasra Rizwi']\n",
      "\n",
      "\n"
     ]
    }
   ],
   "source": [
    "# a= guest_list.pop()\n",
    "# for a in guest_list:\n",
    "#    print(f\"Sorry {a} , I cannot invite you for dinner. \")\n",
    "# if guest_length.len() ==2:\n",
    "#   break            # error\n",
    "\n",
    "\n",
    "\n",
    "#\n",
    "print(\"My original guest list :\")\n",
    "print(\"\\t\",guest_list)\n",
    "print(\"Due to unconveinice , I can invite only two people for dinner. I am sorry.\")\n",
    "print(\"\\n\")\n",
    "\n",
    "a= guest_list.pop(0)\n",
    "print(f\"Sorry {a} , I couldn't invite you to dinner.\")\n",
    "print(f\"\\tRemaining people : {guest_list}\")\n",
    "print(\"\\n\")\n",
    "\n",
    "b= guest_list.pop(0)\n",
    "print(f\"Sorry , {b} , I couldn't invite you to dinner.\")\n",
    "print(f\"\\tRemainig people : {guest_list}\")\n",
    "print(\"\\n\")\n",
    "\n",
    "c= guest_list.pop(2)\n",
    "print(f\"Sorry {c} , I couldn't invite you to dinner.\")\n",
    "print(f\"\\tRemainig people : {guest_list}\")\n",
    "print(\"\\n\")\n",
    "\n",
    "d = guest_list.pop(3)\n",
    "print(f\"Sorry {d} , I c couldn't invite you for dinner.\")\n",
    "print(f\"\\tRemaining people : {guest_list}\")\n",
    "print(\"\\n\")\n",
    "\n",
    "e = guest_list.pop(2)\n",
    "print(f\"Sorry {e} , I c couldn't invite you for dinner.\")\n",
    "print(f\"\\tRemaining people : {guest_list}\") # this code will give error if you run more than once\n",
    "print(\"\\n\")"
   ]
  },
  {
   "cell_type": "code",
   "execution_count": 165,
   "id": "4c5ac651-9559-4147-9219-eb158cf5b16c",
   "metadata": {},
   "outputs": [
    {
     "name": "stdout",
     "output_type": "stream",
     "text": [
      "Lata Mangaeshkar , you are still invited to the dinner. I am looking forward to meeting you very soon.\n",
      "Yasra Rizwi , you are still invited to the dinner. I am looking forward to meeting you very soon.\n"
     ]
    }
   ],
   "source": [
    "print(f\"{guest_list[0].title()} , you are still invited to the dinner. I am looking forward to meeting you very soon.\")\n",
    "print(f\"{guest_list[1].title()} , you are still invited to the dinner. I am looking forward to meeting you very soon.\")"
   ]
  },
  {
   "cell_type": "code",
   "execution_count": 166,
   "id": "e11dabe5-1114-44d2-b3ea-dfd2af2d2010",
   "metadata": {},
   "outputs": [
    {
     "name": "stdout",
     "output_type": "stream",
     "text": [
      "[]\n"
     ]
    }
   ],
   "source": [
    "del guest_list[0]\n",
    "del guest_list[0]\n",
    "print(guest_list)"
   ]
  },
  {
   "cell_type": "code",
   "execution_count": 167,
   "id": "2e152dcd-382d-49c2-83c3-c98a624f3e78",
   "metadata": {},
   "outputs": [
    {
     "name": "stdout",
     "output_type": "stream",
     "text": [
      "I am inviting 0 guests for dinner.\n"
     ]
    }
   ],
   "source": [
    "number_of_guests = len(guest_list)                 # (from Exercise 3.9)\n",
    "print(f\"I am inviting {number_of_guests} guests for dinner.\")"
   ]
  },
  {
   "cell_type": "markdown",
   "id": "d6cbdcc2-49d6-4668-ad5a-0c2760b3cd9a",
   "metadata": {},
   "source": [
    "## Exercise 3.8 : Seeing the World"
   ]
  },
  {
   "cell_type": "code",
   "execution_count": 168,
   "id": "61a190e2-2dc5-44c7-a866-8ead6ed5d040",
   "metadata": {},
   "outputs": [
    {
     "data": {
      "text/plain": [
       "['Paris', 'Sweden', 'Thailand', 'America', 'Ethiopia']"
      ]
     },
     "execution_count": 168,
     "metadata": {},
     "output_type": "execute_result"
    }
   ],
   "source": [
    "favourite_places = [\"Paris\", \"Sweden\",\"Thailand\",\"America\", \"Ethiopia\"]\n",
    "favourite_places"
   ]
  },
  {
   "cell_type": "code",
   "execution_count": 169,
   "id": "6abfaf1e-72e6-4730-a652-8e4de1f69079",
   "metadata": {},
   "outputs": [
    {
     "data": {
      "text/plain": [
       "['America', 'Ethiopia', 'Paris', 'Sweden', 'Thailand']"
      ]
     },
     "execution_count": 169,
     "metadata": {},
     "output_type": "execute_result"
    }
   ],
   "source": [
    "sorted(favourite_places)"
   ]
  },
  {
   "cell_type": "code",
   "execution_count": 170,
   "id": "9f62ebcf-10ac-463b-b626-c82ee2d008bd",
   "metadata": {},
   "outputs": [
    {
     "data": {
      "text/plain": [
       "['Paris', 'Sweden', 'Thailand', 'America', 'Ethiopia']"
      ]
     },
     "execution_count": 170,
     "metadata": {},
     "output_type": "execute_result"
    }
   ],
   "source": [
    "favourite_places"
   ]
  },
  {
   "cell_type": "code",
   "execution_count": 171,
   "id": "e32f3d93-d4c3-4149-8a3e-86c71a5f0162",
   "metadata": {},
   "outputs": [
    {
     "data": {
      "text/plain": [
       "['Thailand', 'Sweden', 'Paris', 'Ethiopia', 'America']"
      ]
     },
     "execution_count": 171,
     "metadata": {},
     "output_type": "execute_result"
    }
   ],
   "source": [
    "sorted( favourite_places, reverse=True)"
   ]
  },
  {
   "cell_type": "code",
   "execution_count": 172,
   "id": "46a8e704-a546-4085-913c-11bf98d1e240",
   "metadata": {},
   "outputs": [
    {
     "data": {
      "text/plain": [
       "['Paris', 'Sweden', 'Thailand', 'America', 'Ethiopia']"
      ]
     },
     "execution_count": 172,
     "metadata": {},
     "output_type": "execute_result"
    }
   ],
   "source": [
    "favourite_places"
   ]
  },
  {
   "cell_type": "code",
   "execution_count": 173,
   "id": "6acf0f1f-fe8b-4070-9af6-51a54dc32eb6",
   "metadata": {},
   "outputs": [
    {
     "name": "stdout",
     "output_type": "stream",
     "text": [
      "['Ethiopia', 'America', 'Thailand', 'Sweden', 'Paris']\n"
     ]
    }
   ],
   "source": [
    "favourite_places.reverse()\n",
    "print(favourite_places)"
   ]
  },
  {
   "cell_type": "code",
   "execution_count": 174,
   "id": "fde68dff-e10d-4115-be71-3bbfacf84a71",
   "metadata": {},
   "outputs": [
    {
     "data": {
      "text/plain": [
       "['Paris', 'Sweden', 'Thailand', 'America', 'Ethiopia']"
      ]
     },
     "execution_count": 174,
     "metadata": {},
     "output_type": "execute_result"
    }
   ],
   "source": [
    "favourite_places.reverse()\n",
    "favourite_places"
   ]
  },
  {
   "cell_type": "code",
   "execution_count": 175,
   "id": "be20c32d-1f6e-41cc-be54-03b6e69401bf",
   "metadata": {},
   "outputs": [
    {
     "data": {
      "text/plain": [
       "['America', 'Ethiopia', 'Paris', 'Sweden', 'Thailand']"
      ]
     },
     "execution_count": 175,
     "metadata": {},
     "output_type": "execute_result"
    }
   ],
   "source": [
    "favourite_places.sort()\n",
    "favourite_places"
   ]
  },
  {
   "cell_type": "code",
   "execution_count": 176,
   "id": "344f00a1-d9de-4f9b-90ef-964e75a42408",
   "metadata": {},
   "outputs": [
    {
     "data": {
      "text/plain": [
       "['Thailand', 'Sweden', 'Paris', 'Ethiopia', 'America']"
      ]
     },
     "execution_count": 176,
     "metadata": {},
     "output_type": "execute_result"
    }
   ],
   "source": [
    "favourite_places.sort(reverse=True)\n",
    "favourite_places"
   ]
  },
  {
   "cell_type": "markdown",
   "id": "8975b687-b038-4956-85fe-62c345409c8d",
   "metadata": {},
   "source": [
    "## Exercise 3.9 : Dinner Guests"
   ]
  },
  {
   "cell_type": "code",
   "execution_count": 177,
   "id": "68cdab30-d41a-49b7-b41a-2476e2d2d960",
   "metadata": {},
   "outputs": [
    {
     "name": "stdout",
     "output_type": "stream",
     "text": [
      "I am inviting 0 guests for dinner tonight.\n"
     ]
    }
   ],
   "source": [
    "number_of_guests = len(guest_list) # (using guest_list list) from exercises 3.4 to 3.7\n",
    "print(f\"I am inviting {number_of_guests} guests for dinner tonight.\")  # this will give wrong answer if you run this cell again !!"
   ]
  },
  {
   "cell_type": "code",
   "execution_count": 178,
   "id": "fe307a83-d3c4-486f-987b-23146bb7c8cd",
   "metadata": {},
   "outputs": [
    {
     "name": "stdout",
     "output_type": "stream",
     "text": [
      "I am inviting 4 guests for dinner tonight.\n"
     ]
    }
   ],
   "source": [
    "guest_list = [\"Andrew Tate\", \"Lata Mangaeshkar\", \"Brooklyn Grock\" , \"Grimes\"]\n",
    "number_of_guests= len(guest_list)\n",
    "print(f\"I am inviting {number_of_guests} guests for dinner tonight.\")"
   ]
  },
  {
   "cell_type": "markdown",
   "id": "2b0a5225-ef4f-4db0-9dd9-c4be13761db0",
   "metadata": {},
   "source": [
    "## Exercise 3.10 : Every Function"
   ]
  },
  {
   "cell_type": "code",
   "execution_count": 71,
   "id": "efdcf624-6f49-4b26-97dc-db248ba2e121",
   "metadata": {},
   "outputs": [
    {
     "name": "stdout",
     "output_type": "stream",
     "text": [
      "['Pakistan', 'America', 'India', 'France', 'China']\n"
     ]
    }
   ],
   "source": [
    "countries = [\"Pakistan\", \"America\", \"India\", \"France\", \"China\"]\n",
    "print(countries)"
   ]
  },
  {
   "cell_type": "code",
   "execution_count": 72,
   "id": "4a0bce11-470b-4059-a0e9-bfce9651658f",
   "metadata": {},
   "outputs": [
    {
     "name": "stdout",
     "output_type": "stream",
     "text": [
      "Pakistan\n"
     ]
    }
   ],
   "source": [
    "print(countries[0])"
   ]
  },
  {
   "cell_type": "code",
   "execution_count": 73,
   "id": "a4a6d6c2-46b4-424b-8bdc-13401b937c32",
   "metadata": {},
   "outputs": [
    {
     "data": {
      "text/plain": [
       "'Pakistan'"
      ]
     },
     "execution_count": 73,
     "metadata": {},
     "output_type": "execute_result"
    }
   ],
   "source": [
    "countries[0].title()"
   ]
  },
  {
   "cell_type": "code",
   "execution_count": 74,
   "id": "8db7ac68-7362-4fac-9945-98b6eabf5471",
   "metadata": {},
   "outputs": [
    {
     "data": {
      "text/plain": [
       "'France'"
      ]
     },
     "execution_count": 74,
     "metadata": {},
     "output_type": "execute_result"
    }
   ],
   "source": [
    "countries[-2]"
   ]
  },
  {
   "cell_type": "code",
   "execution_count": 75,
   "id": "5c137569-e36e-4969-9168-dd9b3e29f79e",
   "metadata": {},
   "outputs": [
    {
     "name": "stdout",
     "output_type": "stream",
     "text": [
      "Pakistan is a beautiful country with four seasons.\n"
     ]
    }
   ],
   "source": [
    "print(f\"{countries[0].title()} is a beautiful country with four seasons.\")"
   ]
  },
  {
   "cell_type": "code",
   "execution_count": 76,
   "id": "a0a903d7-1e8f-42eb-a1af-f8ee50b8563d",
   "metadata": {},
   "outputs": [
    {
     "name": "stdout",
     "output_type": "stream",
     "text": [
      "['Pakistan', 'America', 'India', 'France', 'South Korea']\n"
     ]
    }
   ],
   "source": [
    "countries[4] = \"South Korea\"\n",
    "print(countries)"
   ]
  },
  {
   "cell_type": "code",
   "execution_count": 77,
   "id": "59f2d697-d62f-4224-a6ba-1690804e827e",
   "metadata": {},
   "outputs": [
    {
     "data": {
      "text/plain": [
       "['Pakistan', 'America', 'India', 'France', 'South Korea', 'New Zealand']"
      ]
     },
     "execution_count": 77,
     "metadata": {},
     "output_type": "execute_result"
    }
   ],
   "source": [
    "countries.append(\"New Zealand\")\n",
    "countries"
   ]
  },
  {
   "cell_type": "code",
   "execution_count": 78,
   "id": "e93fe8d1-a225-453b-8493-3b5731e04ab4",
   "metadata": {},
   "outputs": [
    {
     "data": {
      "text/plain": [
       "[]"
      ]
     },
     "execution_count": 78,
     "metadata": {},
     "output_type": "execute_result"
    }
   ],
   "source": [
    "countries = []\n",
    "countries"
   ]
  },
  {
   "cell_type": "code",
   "execution_count": 79,
   "id": "20aa88e7-3422-41e9-98f1-afb5767be7f4",
   "metadata": {},
   "outputs": [
    {
     "name": "stdout",
     "output_type": "stream",
     "text": [
      "['South Korea', 'Pakistan', 'India', 'America']\n"
     ]
    }
   ],
   "source": [
    "countries.append(\"South Korea\")\n",
    "countries.append(\"Pakistan\")\n",
    "countries.append(\"India\")\n",
    "countries.append(\"America\")\n",
    "print(countries) # running more than once this cell will give wrong answer , it will repeat output."
   ]
  },
  {
   "cell_type": "code",
   "execution_count": 80,
   "id": "3d3847a6-ccb0-4ef3-aec2-5b61895ce9c0",
   "metadata": {},
   "outputs": [
    {
     "name": "stdout",
     "output_type": "stream",
     "text": [
      "['United Kingdom', 'South Korea', 'Pakistan', 'India', 'Palestine', 'America']\n"
     ]
    }
   ],
   "source": [
    "countries.insert(0,\"United Kingdom\")\n",
    "countries.insert(4,\"Palestine\")\n",
    "print(countries)"
   ]
  },
  {
   "cell_type": "code",
   "execution_count": 81,
   "id": "a48f283e-36d7-4771-a480-2a1a4047271d",
   "metadata": {},
   "outputs": [
    {
     "name": "stdout",
     "output_type": "stream",
     "text": [
      "['United Kingdom', 'South Korea', 'India', 'Palestine', 'America']\n"
     ]
    }
   ],
   "source": [
    "del countries[2]\n",
    "print(countries)"
   ]
  },
  {
   "cell_type": "code",
   "execution_count": 82,
   "id": "77f17ac5-9dbb-4cf1-97f8-23e3702cbcbf",
   "metadata": {},
   "outputs": [
    {
     "data": {
      "text/plain": [
       "['United Kingdom', 'South Korea', 'India', 'Palestine']"
      ]
     },
     "execution_count": 82,
     "metadata": {},
     "output_type": "execute_result"
    }
   ],
   "source": [
    "countries.pop()\n",
    "countries"
   ]
  },
  {
   "cell_type": "code",
   "execution_count": 83,
   "id": "a43dc75e-3dde-4f06-b4b2-d6a1b1d250a2",
   "metadata": {},
   "outputs": [
    {
     "name": "stdout",
     "output_type": "stream",
     "text": [
      "['United Kingdom', 'South Korea', 'India']\n",
      "Palestine\n"
     ]
    }
   ],
   "source": [
    "popped_country = countries.pop()\n",
    "print(countries)\n",
    "print(popped_country) # run this cell from start of exercise when running after first time."
   ]
  },
  {
   "cell_type": "code",
   "execution_count": 85,
   "id": "f5f3e1b0-8d50-4dda-8b46-13b46ebf5d54",
   "metadata": {},
   "outputs": [
    {
     "name": "stdout",
     "output_type": "stream",
     "text": [
      "PALESTINE is being removed from world map !! \n"
     ]
    }
   ],
   "source": [
    "print(f\"{popped_country.upper()} is being removed from world map !! \")"
   ]
  },
  {
   "cell_type": "code",
   "execution_count": 86,
   "id": "20d0a512-75e0-403a-a697-437ac3e00ff7",
   "metadata": {},
   "outputs": [
    {
     "data": {
      "text/plain": [
       "['United Kingdom', 'South Korea', 'India']"
      ]
     },
     "execution_count": 86,
     "metadata": {},
     "output_type": "execute_result"
    }
   ],
   "source": [
    "countries"
   ]
  },
  {
   "cell_type": "code",
   "execution_count": 90,
   "id": "d056f5bf-0287-41fd-9072-a19c42916df5",
   "metadata": {},
   "outputs": [
    {
     "name": "stdout",
     "output_type": "stream",
     "text": [
      "South Korea is the most woke country in the given list of countries.\n"
     ]
    }
   ],
   "source": [
    "most_woke_country = countries.pop(0)\n",
    "print(f\"{most_woke_country.title()} is the most woke country in the given list of countries.\")"
   ]
  },
  {
   "cell_type": "code",
   "execution_count": 89,
   "id": "e0fc76c5-441c-4243-bcf3-5d56d65f481b",
   "metadata": {},
   "outputs": [
    {
     "name": "stdout",
     "output_type": "stream",
     "text": [
      "United Kingdoms is actually the most woke country in the world currently . \n"
     ]
    }
   ],
   "source": [
    "print(\"United Kingdoms is actually the most woke country in the world currently . \")"
   ]
  },
  {
   "cell_type": "code",
   "execution_count": 91,
   "id": "5a7f48b9-e763-4d6f-a499-7cae3852ab7c",
   "metadata": {},
   "outputs": [],
   "source": [
    "countries.remove(\"India\")"
   ]
  },
  {
   "cell_type": "code",
   "execution_count": 92,
   "id": "c72489c3-2a26-4b3d-980b-8671d17672e6",
   "metadata": {},
   "outputs": [
    {
     "name": "stdout",
     "output_type": "stream",
     "text": [
      "[]\n"
     ]
    }
   ],
   "source": [
    "print(countries)"
   ]
  },
  {
   "cell_type": "code",
   "execution_count": 93,
   "id": "1ec707d6-5d63-40dc-aefe-35222e8a21de",
   "metadata": {},
   "outputs": [
    {
     "data": {
      "text/plain": [
       "['Pakistan', 'India', 'America', 'Sweden', 'Palestine', 'Japan']"
      ]
     },
     "execution_count": 93,
     "metadata": {},
     "output_type": "execute_result"
    }
   ],
   "source": [
    "countries = [\"Pakistan\" , \"India\", \"America\", \"Sweden\", \"Palestine\", \"Japan\"]\n",
    "countries"
   ]
  },
  {
   "cell_type": "code",
   "execution_count": 95,
   "id": "6f9ebc5e-e219-41bc-b00d-ffd4ab0e73dc",
   "metadata": {},
   "outputs": [
    {
     "data": {
      "text/plain": [
       "['America', 'India', 'Japan', 'Pakistan', 'Palestine', 'Sweden']"
      ]
     },
     "execution_count": 95,
     "metadata": {},
     "output_type": "execute_result"
    }
   ],
   "source": [
    "countries.sort()\n",
    "countries"
   ]
  },
  {
   "cell_type": "code",
   "execution_count": 96,
   "id": "31b24e1d-c42a-4e2a-b27d-a45a15281392",
   "metadata": {},
   "outputs": [
    {
     "data": {
      "text/plain": [
       "['Sweden', 'Palestine', 'Pakistan', 'Japan', 'India', 'America']"
      ]
     },
     "execution_count": 96,
     "metadata": {},
     "output_type": "execute_result"
    }
   ],
   "source": [
    "countries.sort(reverse=True)\n",
    "countries"
   ]
  },
  {
   "cell_type": "code",
   "execution_count": 125,
   "id": "e8742efb-8f58-4ad1-9d2e-9da320f39dca",
   "metadata": {},
   "outputs": [
    {
     "data": {
      "text/plain": [
       "['America', 'India', 'Japan', 'Pakistan', 'Palestine', 'Sweden']"
      ]
     },
     "execution_count": 125,
     "metadata": {},
     "output_type": "execute_result"
    }
   ],
   "source": [
    "#\n",
    "countries = [\"Pakistan\", \"India\", \"America\", \"Sweden\", \"Palestine\", \"Japan\"]\n",
    "sorted(countries)"
   ]
  },
  {
   "cell_type": "code",
   "execution_count": 126,
   "id": "dde4d06e-57f9-4d70-9c75-9709bfdea102",
   "metadata": {},
   "outputs": [
    {
     "data": {
      "text/plain": [
       "['Pakistan', 'India', 'America', 'Sweden', 'Palestine', 'Japan']"
      ]
     },
     "execution_count": 126,
     "metadata": {},
     "output_type": "execute_result"
    }
   ],
   "source": [
    "countries"
   ]
  },
  {
   "cell_type": "code",
   "execution_count": 127,
   "id": "82b2745e-e209-4d2b-b63a-4e2b80152c9c",
   "metadata": {},
   "outputs": [
    {
     "name": "stdout",
     "output_type": "stream",
     "text": [
      "Here is the original list of countries :- \n",
      "\t['Pakistan', 'India', 'America', 'Sweden', 'Palestine', 'Japan']\n",
      "\n",
      "Here is the list of  those countries being sorted in reverse order (reverse alphabetically) :- \n",
      "\t['Sweden', 'Palestine', 'Pakistan', 'Japan', 'India', 'America'] \n",
      " \n",
      "Here is the original list of countries again :- \n",
      "\t['Pakistan', 'India', 'America', 'Sweden', 'Palestine', 'Japan']\n",
      "\n"
     ]
    }
   ],
   "source": [
    "reverse_sorted_countries =  sorted (countries, reverse = True)\n",
    "print(f\"Here is the original list of countries :- \\n\\t{countries}\\n\")\n",
    "\n",
    "print(f\"Here is the list of  those countries being sorted in reverse order (reverse alphabetically) :- \\n\\t{reverse_sorted_countries} \\n \")\n",
    "print(f\"Here is the original list of countries again :- \\n\\t{countries}\\n\")"
   ]
  },
  {
   "cell_type": "code",
   "execution_count": 128,
   "id": "2be4e5a6-182b-4f3d-aafb-43f8eee38b28",
   "metadata": {},
   "outputs": [
    {
     "data": {
      "text/plain": [
       "['Japan', 'Palestine', 'Sweden', 'America', 'India', 'Pakistan']"
      ]
     },
     "execution_count": 128,
     "metadata": {},
     "output_type": "execute_result"
    }
   ],
   "source": [
    "countries.reverse()\n",
    "countries"
   ]
  },
  {
   "cell_type": "code",
   "execution_count": 129,
   "id": "97fa70fa-42a8-4795-9d52-9826913ef4a0",
   "metadata": {},
   "outputs": [
    {
     "data": {
      "text/plain": [
       "6"
      ]
     },
     "execution_count": 129,
     "metadata": {},
     "output_type": "execute_result"
    }
   ],
   "source": [
    "len(countries)"
   ]
  },
  {
   "cell_type": "markdown",
   "id": "5fe3ba61-15d7-45c7-8e03-e47308aa98fc",
   "metadata": {},
   "source": [
    "## Exercise 3.11 : Intentional Error"
   ]
  },
  {
   "cell_type": "code",
   "execution_count": 131,
   "id": "b0b3bf5e-e715-420e-b8d9-9b7c23b64d84",
   "metadata": {},
   "outputs": [
    {
     "data": {
      "text/plain": [
       "['Japan', 'Palestine', 'Sweden', 'America', 'India', 'Pakistan']"
      ]
     },
     "execution_count": 131,
     "metadata": {},
     "output_type": "execute_result"
    }
   ],
   "source": [
    "countries"
   ]
  },
  {
   "cell_type": "code",
   "execution_count": 132,
   "id": "58d52395-4962-4740-ab52-1258e1c3a52e",
   "metadata": {},
   "outputs": [
    {
     "ename": "IndexError",
     "evalue": "list index out of range",
     "output_type": "error",
     "traceback": [
      "\u001b[1;31m---------------------------------------------------------------------------\u001b[0m",
      "\u001b[1;31mIndexError\u001b[0m                                Traceback (most recent call last)",
      "Cell \u001b[1;32mIn[132], line 1\u001b[0m\n\u001b[1;32m----> 1\u001b[0m \u001b[38;5;28mprint\u001b[39m(countries[\u001b[38;5;241m6\u001b[39m])\n",
      "\u001b[1;31mIndexError\u001b[0m: list index out of range"
     ]
    }
   ],
   "source": [
    "print(countries[6]) # error"
   ]
  },
  {
   "cell_type": "code",
   "execution_count": 133,
   "id": "19f8b182-97b3-4c25-aedd-f00b28d6ad10",
   "metadata": {},
   "outputs": [
    {
     "name": "stdout",
     "output_type": "stream",
     "text": [
      "Japan\n"
     ]
    }
   ],
   "source": [
    "print(countries[-6])"
   ]
  },
  {
   "cell_type": "code",
   "execution_count": 134,
   "id": "d5b683a9-2b9e-44b3-9938-cecc05c90eff",
   "metadata": {},
   "outputs": [
    {
     "ename": "IndexError",
     "evalue": "list index out of range",
     "output_type": "error",
     "traceback": [
      "\u001b[1;31m---------------------------------------------------------------------------\u001b[0m",
      "\u001b[1;31mIndexError\u001b[0m                                Traceback (most recent call last)",
      "Cell \u001b[1;32mIn[134], line 1\u001b[0m\n\u001b[1;32m----> 1\u001b[0m \u001b[38;5;28mprint\u001b[39m(countries[\u001b[38;5;241m-\u001b[39m\u001b[38;5;241m7\u001b[39m])\n",
      "\u001b[1;31mIndexError\u001b[0m: list index out of range"
     ]
    }
   ],
   "source": [
    "print(countries[-7]) # error"
   ]
  },
  {
   "cell_type": "code",
   "execution_count": 136,
   "id": "89ebdfef-0644-4134-82f8-0f981d1fcd61",
   "metadata": {},
   "outputs": [
    {
     "name": "stdout",
     "output_type": "stream",
     "text": [
      "Japan\n",
      "Pakistan\n"
     ]
    }
   ],
   "source": [
    "print( countries[-6])\n",
    "print(countries[-1])"
   ]
  },
  {
   "cell_type": "code",
   "execution_count": 137,
   "id": "b3593a26-033c-423c-a234-1734df82b984",
   "metadata": {},
   "outputs": [
    {
     "ename": "IndexError",
     "evalue": "list index out of range",
     "output_type": "error",
     "traceback": [
      "\u001b[1;31m---------------------------------------------------------------------------\u001b[0m",
      "\u001b[1;31mIndexError\u001b[0m                                Traceback (most recent call last)",
      "Cell \u001b[1;32mIn[137], line 3\u001b[0m\n\u001b[0;32m      1\u001b[0m \u001b[38;5;66;03m#\u001b[39;00m\n\u001b[0;32m      2\u001b[0m countries:\u001b[38;5;28mlist\u001b[39m \u001b[38;5;241m=\u001b[39m []\n\u001b[1;32m----> 3\u001b[0m countries[\u001b[38;5;241m-\u001b[39m\u001b[38;5;241m1\u001b[39m]\n",
      "\u001b[1;31mIndexError\u001b[0m: list index out of range"
     ]
    }
   ],
   "source": [
    "#\n",
    "countries:list = []\n",
    "countries[-1] # error"
   ]
  },
  {
   "cell_type": "code",
   "execution_count": 138,
   "id": "757790cb-11c9-46d7-881a-f76644e6f844",
   "metadata": {},
   "outputs": [
    {
     "data": {
      "text/plain": [
       "0"
      ]
     },
     "execution_count": 138,
     "metadata": {},
     "output_type": "execute_result"
    }
   ],
   "source": [
    "len(countries)"
   ]
  },
  {
   "cell_type": "code",
   "execution_count": 139,
   "id": "fa609275-bddf-494d-9494-b364a31b3a7c",
   "metadata": {},
   "outputs": [
    {
     "name": "stdout",
     "output_type": "stream",
     "text": [
      "[]\n"
     ]
    }
   ],
   "source": [
    "print(countries)"
   ]
  },
  {
   "cell_type": "code",
   "execution_count": null,
   "id": "4cf5780a-21c0-492f-8201-2806bcada2b8",
   "metadata": {},
   "outputs": [],
   "source": []
  }
 ],
 "metadata": {
  "kernelspec": {
   "display_name": "Python 3 (ipykernel)",
   "language": "python",
   "name": "python3"
  },
  "language_info": {
   "codemirror_mode": {
    "name": "ipython",
    "version": 3
   },
   "file_extension": ".py",
   "mimetype": "text/x-python",
   "name": "python",
   "nbconvert_exporter": "python",
   "pygments_lexer": "ipython3",
   "version": "3.11.7"
  }
 },
 "nbformat": 4,
 "nbformat_minor": 5
}
