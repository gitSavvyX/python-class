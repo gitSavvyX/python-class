{
 "cells": [
  {
   "cell_type": "markdown",
   "id": "2108486d-ded7-47e3-b6c4-9d7e2ac7e085",
   "metadata": {},
   "source": [
    "# 10 class | functions, lambda, decorators, recursive, generator, *arg and **args"
   ]
  },
  {
   "cell_type": "markdown",
   "id": "43ccf0b4-716d-4f16-9c42-188a85158a5d",
   "metadata": {},
   "source": [
    "## Function"
   ]
  },
  {
   "cell_type": "markdown",
   "id": "c41002af-2110-4a84-a390-a9be5b50ec38",
   "metadata": {},
   "source": [
    "### Components of a Function\n",
    "A function has three things (components) :\n",
    "function declaration , function body and function calling."
   ]
  },
  {
   "cell_type": "markdown",
   "id": "0bfd8b16-7de0-4375-a841-cfc2f76361aa",
   "metadata": {},
   "source": [
    "###  Types of Functions\n",
    "There are two types of functions : \n",
    "1.  pre-defined function : these are provided by programming language\n",
    "   2. user-defined function : these are custom function. made by user."
   ]
  },
  {
   "cell_type": "markdown",
   "id": "518fb428-eff9-4a68-b8d9-5578a0d54f9c",
   "metadata": {},
   "source": [
    "### Syntax of Function :"
   ]
  },
  {
   "cell_type": "raw",
   "id": "1fe83311-ce83-4378-961f-25bda04e6e7e",
   "metadata": {},
   "source": [
    "Below is syntax of function :\n",
    "'''\n",
    "def function_name (parameter1 : type , parameter2 : type , ...) :\n",
    "    function_body\n",
    "\n",
    "function_name(argument1 , argument2)\n",
    "'''"
   ]
  },
  {
   "cell_type": "markdown",
   "id": "36dc5dbd-5d94-4b99-8c8e-50048a87abaf",
   "metadata": {},
   "source": [
    "### Return and Non-Return Type Functions \n",
    "A predefined function can either be a return type or non-return type. A user-defined function can either be a return type or a non return type.\n",
    "\n",
    "\n",
    "1. return type :  we can assign this function output in any variable\n",
    "2. non-return type : only run we cant assign value to variable"
   ]
  },
  {
   "cell_type": "markdown",
   "id": "680c683c-fa13-4103-9198-7e2af75c7ac1",
   "metadata": {},
   "source": [
    "### Examples of Pre-Defined Functions\n",
    "Examples of pre-defined functions are :\n",
    "1. print()\n",
    "2. len()\n",
    "3. dir\n",
    "4. id\n",
    "5. string str functions\n",
    "6. chr\n",
    "7. order ord\n",
    "8. execute exec"
   ]
  },
  {
   "cell_type": "code",
   "execution_count": 2,
   "id": "49d1fc7b-a297-4799-9052-c3f59fb89b9b",
   "metadata": {},
   "outputs": [
    {
     "name": "stdout",
     "output_type": "stream",
     "text": [
      "aa\n",
      "2\n"
     ]
    }
   ],
   "source": [
    "# Below are pre-defined functions 'print()' and 'len()'\n",
    "print(\"aa\")\n",
    "print(len(\"aa\"))"
   ]
  },
  {
   "cell_type": "markdown",
   "id": "9ba09d0f-7e3e-4318-b680-b09c3435f2d4",
   "metadata": {},
   "source": [
    "### Return and None-Return Function\n",
    "In the code below it is shown how to detect whether a function is a return or a non-return function. \\\n",
    "(like print() is a non-return function   and len() is a return function)"
   ]
  },
  {
   "cell_type": "code",
   "execution_count": 5,
   "id": "0dae9071-d3c9-4209-9928-1e9aa984e9c0",
   "metadata": {},
   "outputs": [
    {
     "name": "stdout",
     "output_type": "stream",
     "text": [
      "Pakistan\n",
      "None\n"
     ]
    }
   ],
   "source": [
    "a : str = print(\"Pakistan\")\n",
    "# if 'print()'  function will put value 'pakistan' inside the variable 'a' , then we will say that 'print()' function is a return function.\n",
    "#     and if get 'None'   (in output ), then print is a non-return function.\n",
    "\n",
    "display(a)\n",
    "# or print(a)\n",
    "\n",
    "# the first output is if line 1 . the second output is of line 2.       since the print function was not able to put value in the variable 'a' so\n",
    "# print is a non- return function as the result is None .      (if print was a return function it would put value pakistan into \"a\" and we\n",
    "# would get \"pakistan \" as output.)"
   ]
  },
  {
   "cell_type": "code",
   "execution_count": 7,
   "id": "00840643-a689-45a3-af54-07e6f9025714",
   "metadata": {},
   "outputs": [
    {
     "name": "stdout",
     "output_type": "stream",
     "text": [
      "Pakistan\n"
     ]
    }
   ],
   "source": [
    "# ex\n",
    "a : str = print(\"Pakistan\")"
   ]
  },
  {
   "cell_type": "code",
   "execution_count": 8,
   "id": "c6366502-c36e-445a-9826-2dec32e31f70",
   "metadata": {},
   "outputs": [
    {
     "name": "stdout",
     "output_type": "stream",
     "text": [
      "None\n"
     ]
    }
   ],
   "source": [
    "print(a)"
   ]
  },
  {
   "cell_type": "code",
   "execution_count": 10,
   "id": "749a2a5c-c301-41b2-8117-0cfd27df9e48",
   "metadata": {},
   "outputs": [
    {
     "data": {
      "text/plain": [
       "8"
      ]
     },
     "metadata": {},
     "output_type": "display_data"
    }
   ],
   "source": [
    "# similarly with 'len()' function . (like we did above with print() func.)\n",
    "a : int = len(\"Pakistan\")\n",
    "display(a)\n",
    "\n",
    "\n",
    "# output .    so here 'len()' is a return function."
   ]
  },
  {
   "cell_type": "code",
   "execution_count": 23,
   "id": "f1f9e44c-2f6b-4aa6-b95d-209232ecacec",
   "metadata": {},
   "outputs": [
    {
     "name": "stdout",
     "output_type": "stream",
     "text": [
      "\n",
      "\n"
     ]
    },
    {
     "data": {
      "text/plain": [
       "2608911866608"
      ]
     },
     "metadata": {},
     "output_type": "display_data"
    },
    {
     "name": "stdout",
     "output_type": "stream",
     "text": [
      "\n",
      "\n",
      "['__add__', '__class__', '__contains__', '__delattr__', '__dir__', '__doc__', '__eq__', '__format__', '__ge__', '__getattribute__', '__getitem__', '__getnewargs__', '__getstate__', '__gt__', '__hash__', '__init__', '__init_subclass__', '__iter__', '__le__', '__len__', '__lt__', '__mod__', '__mul__', '__ne__', '__new__', '__reduce__', '__reduce_ex__', '__repr__', '__rmod__', '__rmul__', '__setattr__', '__sizeof__', '__str__', '__subclasshook__', 'capitalize', 'casefold', 'center', 'count', 'encode', 'endswith', 'expandtabs', 'find', 'format', 'format_map', 'index', 'isalnum', 'isalpha', 'isascii', 'isdecimal', 'isdigit', 'isidentifier', 'islower', 'isnumeric', 'isprintable', 'isspace', 'istitle', 'isupper', 'join', 'ljust', 'lower', 'lstrip', 'maketrans', 'partition', 'removeprefix', 'removesuffix', 'replace', 'rfind', 'rindex', 'rjust', 'rpartition', 'rsplit', 'rstrip', 'split', 'splitlines', 'startswith', 'strip', 'swapcase', 'title', 'translate', 'upper', 'zfill']\n",
      "\n",
      "\n",
      "2608911866608\n",
      "\n",
      "\n",
      "['__add__', '__class__', '__contains__', '__delattr__', '__dir__', '__doc__', '__eq__', '__format__', '__ge__', '__getattribute__', '__getitem__', '__getnewargs__', '__getstate__', '__gt__', '__hash__', '__init__', '__init_subclass__', '__iter__', '__le__', '__len__', '__lt__', '__mod__', '__mul__', '__ne__', '__new__', '__reduce__', '__reduce_ex__', '__repr__', '__rmod__', '__rmul__', '__setattr__', '__sizeof__', '__str__', '__subclasshook__', 'capitalize', 'casefold', 'center', 'count', 'encode', 'endswith', 'expandtabs', 'find', 'format', 'format_map', 'index', 'isalnum', 'isalpha', 'isascii', 'isdecimal', 'isdigit', 'isidentifier', 'islower', 'isnumeric', 'isprintable', 'isspace', 'istitle', 'isupper', 'join', 'ljust', 'lower', 'lstrip', 'maketrans', 'partition', 'removeprefix', 'removesuffix', 'replace', 'rfind', 'rindex', 'rjust', 'rpartition', 'rsplit', 'rstrip', 'split', 'splitlines', 'startswith', 'strip', 'swapcase', 'title', 'translate', 'upper', 'zfill']\n",
      "\n",
      "\n"
     ]
    }
   ],
   "source": [
    "print(\"\\n\")\n",
    "a : str = id (\"fdfd\")\n",
    "display(a)\n",
    "\n",
    "print(\"\\n\")\n",
    "b = dir(\"fdgdg\")\n",
    "print(b)\n",
    "\n",
    "print(\"\\n\")\n",
    "c = dir(a)\n",
    "print(a)\n",
    "\n",
    "print(\"\\n\")\n",
    "e = \"cat\"\n",
    "d = dir(e)\n",
    "print(d)\n",
    "\n",
    "print(\"\\n\")"
   ]
  },
  {
   "cell_type": "markdown",
   "id": "81235d5c-9bd6-4f6d-a177-ac6c51fbac56",
   "metadata": {},
   "source": [
    "if you want to check if a function is return type or non-return type , assign that function to a variable . (and print it , if it returns the \n",
    "value it is a return function)"
   ]
  },
  {
   "cell_type": "markdown",
   "id": "6a118d2f-c0d4-4300-b460-e182ed383bca",
   "metadata": {},
   "source": [
    "print() is a global function. a global function can be used anywhere. it does not belong to a class.  there are many types\n",
    "of global functions and we can also declare global functions."
   ]
  },
  {
   "cell_type": "markdown",
   "id": "e63d9907-21d8-48e0-aae0-9f0280bee400",
   "metadata": {},
   "source": [
    "function , class , object , method difference .  object has variable name.\n",
    "difference between function and method : (in method there is dot , in function there is no dot)\n",
    "* function_name()\n",
    "* variable_name.method_name()\n"
   ]
  },
  {
   "cell_type": "markdown",
   "id": "c138dc4d-0e44-496e-818a-c6967af8d621",
   "metadata": {},
   "source": [
    "."
   ]
  },
  {
   "cell_type": "markdown",
   "id": "4c6cdf36-2f76-4127-9741-ab378ffc331d",
   "metadata": {},
   "source": [
    "### Components of a Function\n",
    "A function has three things (components) :\n",
    "* function declaration \n",
    "* function body \n",
    "* function calling."
   ]
  },
  {
   "cell_type": "markdown",
   "id": "8f659290-7513-4bad-a473-efa31eaed42c",
   "metadata": {},
   "source": [
    "### Syntax of Function :"
   ]
  },
  {
   "cell_type": "raw",
   "id": "267d5576-bb14-4a13-bc0d-bb90df27eb61",
   "metadata": {},
   "source": [
    "Below is syntax of function :\n",
    "'''\n",
    "def function_name (parameter1 : type , parameter2 : type , ...) :    # declaration\n",
    "    function_body         # body\n",
    "\n",
    "function_name(argument1 , argument2)     # calling\n",
    "'''  "
   ]
  },
  {
   "cell_type": "markdown",
   "id": "ee3d57a9-c9d8-4c75-a9eb-2830dc07f9e8",
   "metadata": {},
   "source": [
    "### create simple function without any argument (Default Function)"
   ]
  },
  {
   "cell_type": "code",
   "execution_count": 27,
   "id": "0445ab60-85a6-4b4a-ae75-e88c0069ddfa",
   "metadata": {},
   "outputs": [
    {
     "name": "stdout",
     "output_type": "stream",
     "text": [
      "PIAC Generative Artifical Intelligence\n",
      "Python Crash Course\n"
     ]
    }
   ],
   "source": [
    "def piac()-> None : # function declaration / function signature\n",
    "# this function takes no parameter. this function will run and will return nothing so its by default type is none.\n",
    "    \n",
    "    # function body start\n",
    "    print(\"PIAC Generative Artifical Intelligence\")\n",
    "    print(\"Python Crash Course\")\n",
    "    # function body end\n",
    "\n",
    "piac() # function call"
   ]
  },
  {
   "cell_type": "code",
   "execution_count": 28,
   "id": "93bf31a5-ae99-40bc-9753-7cfa3d8ec310",
   "metadata": {},
   "outputs": [
    {
     "name": "stdout",
     "output_type": "stream",
     "text": [
      "PIAC Generative Artifical Intelligence\n",
      "Python Crash Course\n",
      "PIAC Generative Artifical Intelligence\n",
      "Python Crash Course\n"
     ]
    }
   ],
   "source": [
    "# you can call the function as many times you want , no need to write the code again.\n",
    "piac()\n",
    "piac()"
   ]
  },
  {
   "cell_type": "markdown",
   "id": "bdee1707-c4cd-46ae-8748-720b08d46b91",
   "metadata": {},
   "source": [
    "function name should be unique and it should not be a reserved word."
   ]
  },
  {
   "cell_type": "markdown",
   "id": "18ed8b9d-5c73-4390-a3b9-13394ff056da",
   "metadata": {},
   "source": [
    "### Function Components\n",
    "##### (1)  function declaration :\n",
    "  * function name\n",
    "  * function parameter\n",
    "     * parameter : type\n",
    "  * return output type \n",
    "##### (2)  function body : \n",
    "  * write any business logic here  \n",
    "##### (3)  function calling :  \n",
    "  * function(argument1,argument2)"
   ]
  },
  {
   "cell_type": "code",
   "execution_count": null,
   "id": "f73790e3-af82-4857-b162-b20d4e67c408",
   "metadata": {},
   "outputs": [],
   "source": [
    "when we make a function , the variables are called parameters. when we call the function , in that time the variables are called arguments."
   ]
  },
  {
   "cell_type": "markdown",
   "id": "ebcf0e52-3fea-4fb0-b934-2f40ea5221bb",
   "metadata": {},
   "source": [
    "### Parameters Required Functions\n",
    "These functions cannot be called without calling with the specific parameters defined."
   ]
  },
  {
   "cell_type": "code",
   "execution_count": 30,
   "id": "e7771be6-2ee7-44ed-9f91-02c252c728df",
   "metadata": {},
   "outputs": [
    {
     "data": {
      "text/plain": [
       "27"
      ]
     },
     "execution_count": 30,
     "metadata": {},
     "output_type": "execute_result"
    }
   ],
   "source": [
    "# ex\n",
    "# difference between parameter and argument\n",
    "\n",
    "\n",
    "#                     parameter1    parameter2 \n",
    "def add_two_numbers( num1 : int , num2 : int)-> int :\n",
    "    return num1 + num2\n",
    "\n",
    "\n",
    "\n",
    "add_two_numbers(      7   , 20    )\n",
    "#                argument1 argument2\n",
    "\n"
   ]
  },
  {
   "cell_type": "code",
   "execution_count": 31,
   "id": "c5bd02cf-38fb-4d28-89c7-bdcada3200f3",
   "metadata": {},
   "outputs": [
    {
     "ename": "TypeError",
     "evalue": "add_two_numbers() missing 1 required positional argument: 'num2'",
     "output_type": "error",
     "traceback": [
      "\u001b[1;31m---------------------------------------------------------------------------\u001b[0m",
      "\u001b[1;31mTypeError\u001b[0m                                 Traceback (most recent call last)",
      "Cell \u001b[1;32mIn[31], line 1\u001b[0m\n\u001b[1;32m----> 1\u001b[0m add_two_numbers(\u001b[38;5;241m7\u001b[39m)\n",
      "\u001b[1;31mTypeError\u001b[0m: add_two_numbers() missing 1 required positional argument: 'num2'"
     ]
    }
   ],
   "source": [
    "add_two_numbers(7) # error\n",
    "# add_two_numbers is  a required parameters function ."
   ]
  },
  {
   "cell_type": "markdown",
   "id": "30ccf3af-7209-4554-9cc5-4f0ca2e8763d",
   "metadata": {},
   "source": [
    "### Function with Optional Parameter"
   ]
  },
  {
   "cell_type": "code",
   "execution_count": null,
   "id": "6d3bda6d-3589-423f-81a7-0668a18d4e43",
   "metadata": {},
   "outputs": [],
   "source": [
    "# it will give error if we do not put two arguments. to overcome this we can use optional."
   ]
  },
  {
   "cell_type": "code",
   "execution_count": 42,
   "id": "124dabd6-620f-456f-b374-dbdeb2ae352e",
   "metadata": {},
   "outputs": [
    {
     "name": "stdout",
     "output_type": "stream",
     "text": [
      "7 2\n"
     ]
    },
    {
     "data": {
      "text/plain": [
       "9"
      ]
     },
     "execution_count": 42,
     "metadata": {},
     "output_type": "execute_result"
    }
   ],
   "source": [
    "def add_two_numbers( num1 : int  , num2 : int = 0 ) -> int :\n",
    "    print( num1 , num2)\n",
    "    return ( num1 + num2 )\n",
    "\n",
    "add_two_numbers(7,2)\n"
   ]
  },
  {
   "cell_type": "code",
   "execution_count": 43,
   "id": "6190a926-1c35-47f4-8c6c-da8f15347640",
   "metadata": {},
   "outputs": [
    {
     "name": "stdout",
     "output_type": "stream",
     "text": [
      "7 0\n"
     ]
    },
    {
     "data": {
      "text/plain": [
       "7"
      ]
     },
     "execution_count": 43,
     "metadata": {},
     "output_type": "execute_result"
    }
   ],
   "source": [
    "add_two_numbers(7)"
   ]
  },
  {
   "cell_type": "markdown",
   "id": "d81f20d4-7dde-4087-932a-d71e4d48422b",
   "metadata": {},
   "source": [
    "### Lambda Function\n",
    "#### Syntax \n",
    "* lambda function is a one line function\n",
    "* it does not have a name\n",
    "* only use in this line\n",
    "* lambda function is also called anonymous function\n"
   ]
  },
  {
   "cell_type": "raw",
   "id": "7f13ae20-3b6e-451e-8c82-afb75921097e",
   "metadata": {},
   "source": [
    "\n",
    "# Below is a normal function. \n",
    "\n",
    "'''\n",
    "def function_name ( parameter1 : type , parameter2 : type ) : \n",
    "   function_body\n",
    "\n",
    "function_name(argument1 , argument2)\n",
    "'''\n",
    "\n",
    "\n",
    "\n",
    "\n",
    "# The above function in terms of lambda function is : / below is syntax of lambda function :\n",
    "\n",
    "'''\n",
    "lambda parameter1 , parameter2 : function_body\n",
    "'''\n"
   ]
  },
  {
   "cell_type": "code",
   "execution_count": 45,
   "id": "9adacd93-97e4-41be-8174-1548a25c7908",
   "metadata": {},
   "outputs": [
    {
     "data": {
      "text/plain": [
       "15"
      ]
     },
     "execution_count": 45,
     "metadata": {},
     "output_type": "execute_result"
    }
   ],
   "source": [
    "a = lambda num1 , num2 : num1 + num2 # 'a' is a variable with type function.  callback type etc.\n",
    "a ( 7 , 8 ) "
   ]
  },
  {
   "cell_type": "code",
   "execution_count": 46,
   "id": "704dde35-9f1e-4222-a895-b9d9e553ae05",
   "metadata": {},
   "outputs": [
    {
     "data": {
      "text/plain": [
       "function"
      ]
     },
     "execution_count": 46,
     "metadata": {},
     "output_type": "execute_result"
    }
   ],
   "source": [
    "type(a)"
   ]
  },
  {
   "cell_type": "code",
   "execution_count": null,
   "id": "20800f28-9fee-483a-aef4-a2f9c107c75d",
   "metadata": {},
   "outputs": [],
   "source": [
    "# map , filter function can be applied on iterative data types\n"
   ]
  },
  {
   "cell_type": "code",
   "execution_count": 8,
   "id": "9af06873-4b04-40e0-ae1f-bfd837b681dc",
   "metadata": {},
   "outputs": [
    {
     "data": {
      "text/plain": [
       "<map at 0x2a05d557cd0>"
      ]
     },
     "execution_count": 8,
     "metadata": {},
     "output_type": "execute_result"
    }
   ],
   "source": [
    "# map function :\n",
    "\n",
    "data : list[int] = [1,2,3,4,5,6,7,8,9,10]\n",
    "\n",
    "data =  map (lambda x : x**2 , data)\n",
    "#           lambda            iterative data type\n",
    "\n",
    "data"
   ]
  },
  {
   "cell_type": "code",
   "execution_count": 9,
   "id": "8ca00632-55c6-4ddf-a550-39b92097192c",
   "metadata": {},
   "outputs": [
    {
     "data": {
      "text/plain": [
       "[1, 4, 9, 16, 25, 36, 49, 64, 81, 100]"
      ]
     },
     "execution_count": 9,
     "metadata": {},
     "output_type": "execute_result"
    }
   ],
   "source": [
    "# above the anser is not proper because map is generated function , (and we have not appled list on it(iterative data type)).\n",
    "# data = list(map(lambda x : x**2,data))\n",
    "data = list(data)\n",
    "data"
   ]
  },
  {
   "cell_type": "code",
   "execution_count": 12,
   "id": "f7621d3e-7e9c-433f-a565-cb26ad3ce0fe",
   "metadata": {},
   "outputs": [
    {
     "data": {
      "text/plain": [
       "[2, 4, 6, 8, 10]"
      ]
     },
     "execution_count": 12,
     "metadata": {},
     "output_type": "execute_result"
    }
   ],
   "source": [
    "# filter function\n",
    "\n",
    "data : list[int] = [1,2,3,4,5,6,7,8,9,10]\n",
    "data = filter( lambda x : x % 2 == 0 , data)\n",
    "# data = list(filter(lambda x : x % 2 == 0 , data))\n",
    "data"
   ]
  },
  {
   "cell_type": "code",
   "execution_count": 13,
   "id": "2377895f-676b-4c96-86a8-ba17dbc5236c",
   "metadata": {},
   "outputs": [
    {
     "data": {
      "text/plain": [
       "[2, 4, 6, 8, 10]"
      ]
     },
     "execution_count": 13,
     "metadata": {},
     "output_type": "execute_result"
    }
   ],
   "source": [
    "# there is not a proper answer above because 'list()' is not applied on 'filter'. 'filter()' is a generative function on which list has to be applied.\n",
    "data = list(data)\n",
    "data"
   ]
  },
  {
   "cell_type": "code",
   "execution_count": 17,
   "id": "91f4bbd0-b1c4-46cd-b47e-82ceef622720",
   "metadata": {},
   "outputs": [
    {
     "name": "stdout",
     "output_type": "stream",
     "text": [
      "30\n"
     ]
    }
   ],
   "source": [
    "# lambda function with python static type :\n",
    "\n",
    "from typing import Callable\n",
    "add : Callable [[int,int], int] = lambda x , y : x + y\n",
    "result = add(10,20)\n",
    "print(result)\n"
   ]
  },
  {
   "cell_type": "markdown",
   "id": "2f83cf18-57c5-4ba7-8bb3-4063bb8e3451",
   "metadata": {},
   "source": [
    "### Generator Function\n",
    "* it iterates one by one on elements.\n",
    "* it stops after each iteration\n",
    "* it remembers last iteration value\n",
    "* next iterate\n",
    "   * go forward from last iterative value"
   ]
  },
  {
   "cell_type": "code",
   "execution_count": 22,
   "id": "2831f3ed-a843-4e64-bf0e-08334717b56d",
   "metadata": {},
   "outputs": [
    {
     "name": "stdout",
     "output_type": "stream",
     "text": [
      "<generator object my_range at 0x000002A05E0DE2F0>\n",
      "[1, 2, 3, 4, 5, 6, 7, 8, 9, 10]\n"
     ]
    }
   ],
   "source": [
    "# generator function :\n",
    "def my_range(start : int,end : int,step: int =1 ):\n",
    "        for i in range(start,end+1,step) :\n",
    "            yield i # yield is generator function\n",
    "            \n",
    "a = my_range(1,10)   \n",
    "print(a)\n",
    "print(list(a))"
   ]
  },
  {
   "cell_type": "code",
   "execution_count": 24,
   "id": "d18ca614-ef32-448d-b47a-7a34f3f351a8",
   "metadata": {},
   "outputs": [
    {
     "name": "stdout",
     "output_type": "stream",
     "text": [
      "<generator object my_range at 0x000002A05E0DE2F0>\n",
      "1\n",
      "2\n",
      "3\n",
      "Pakistan\n",
      "4\n"
     ]
    }
   ],
   "source": [
    "# using 'next()' function\n",
    "a = my_range(1,10)\n",
    "print(a)\n",
    "print(next(a))\n",
    "print(next(a))\n",
    "print(next(a))\n",
    "print(\"Pakistan\")\n",
    "print(next(a))"
   ]
  },
  {
   "cell_type": "code",
   "execution_count": null,
   "id": "d6fb1a0e-de03-4aa6-b443-06e78d53e5d4",
   "metadata": {},
   "outputs": [],
   "source": [
    "from collection.abc import Iterator # abc stands for abstract based classes .   we are making generator function , but we are importing Iterator not\n",
    "# Generator.\n",
    "MyDict = dict[str,object] \n",
    "def yield_func() -> Iterator[MyDict]:\n",
    "    a : MyDict = {}\n",
    "    b : MyDict = {}\n",
    "    ...\n",
    "    yield a\n",
    "    yield b\n",
    "\n"
   ]
  },
  {
   "cell_type": "code",
   "execution_count": 27,
   "id": "450f38e3-5156-4c89-8675-62740fb6797b",
   "metadata": {},
   "outputs": [
    {
     "name": "stdout",
     "output_type": "stream",
     "text": [
      "1\n",
      "2\n",
      "<class 'generator'>\n"
     ]
    }
   ],
   "source": [
    "from collections.abc import Iterator\n",
    "\n",
    "def my_range(start: int,end: int,step : int =1) -> Iterator[int] :\n",
    "    for i in range(start, end+1, step):\n",
    "        yield i\n",
    "\n",
    "a : Iterator[int] = my_range(1,10)\n",
    "\n",
    "print(next(a))\n",
    "print(next(a))\n",
    "\n",
    "print(type(a))"
   ]
  },
  {
   "cell_type": "code",
   "execution_count": 28,
   "id": "c08a4988-0c24-448d-bd66-723a3f1a4a68",
   "metadata": {},
   "outputs": [
    {
     "data": {
      "text/plain": [
       "['__class__',\n",
       " '__del__',\n",
       " '__delattr__',\n",
       " '__dir__',\n",
       " '__doc__',\n",
       " '__eq__',\n",
       " '__format__',\n",
       " '__ge__',\n",
       " '__getattribute__',\n",
       " '__getstate__',\n",
       " '__gt__',\n",
       " '__hash__',\n",
       " '__init__',\n",
       " '__init_subclass__',\n",
       " '__iter__',\n",
       " '__le__',\n",
       " '__lt__',\n",
       " '__name__',\n",
       " '__ne__',\n",
       " '__new__',\n",
       " '__next__',\n",
       " '__qualname__',\n",
       " '__reduce__',\n",
       " '__reduce_ex__',\n",
       " '__repr__',\n",
       " '__setattr__',\n",
       " '__sizeof__',\n",
       " '__str__',\n",
       " '__subclasshook__',\n",
       " 'close',\n",
       " 'gi_code',\n",
       " 'gi_frame',\n",
       " 'gi_running',\n",
       " 'gi_suspended',\n",
       " 'gi_yieldfrom',\n",
       " 'send',\n",
       " 'throw']"
      ]
     },
     "execution_count": 28,
     "metadata": {},
     "output_type": "execute_result"
    }
   ],
   "source": [
    "# generator is sub type of iterator.\n",
    "dir (a) # in output there is iter and next methods. next used above."
   ]
  },
  {
   "cell_type": "code",
   "execution_count": 29,
   "id": "09ca3742-f23e-4b11-9fb3-3e4151ce7c30",
   "metadata": {},
   "outputs": [
    {
     "name": "stdout",
     "output_type": "stream",
     "text": [
      "3\n",
      "4\n",
      "5\n",
      "6\n",
      "7\n",
      "8\n",
      "9\n",
      "10\n"
     ]
    }
   ],
   "source": [
    "# we can also use loop instead of writing next, next , next.\n",
    "\n",
    "# for i in range(1,10) :\n",
    "for i in a:\n",
    "    print(i) # use 'iterator variable ' instead of 'a' variable name."
   ]
  },
  {
   "cell_type": "markdown",
   "id": "b785757c-b74d-40d4-a709-20993a6681dd",
   "metadata": {},
   "source": [
    "### Types of Functions (Advanced Functions)"
   ]
  },
  {
   "cell_type": "raw",
   "id": "f865cfb3-3f7f-4997-a77d-3b7eb8ee2670",
   "metadata": {},
   "source": [
    "Functions with Static Type Annotations"
   ]
  },
  {
   "cell_type": "markdown",
   "id": "f78b8c95-8d27-4e65-99db-1130aff4cea0",
   "metadata": {},
   "source": [
    "#### 1.  Basic Function :"
   ]
  },
  {
   "cell_type": "code",
   "execution_count": 41,
   "id": "6a6d1e1f-7527-4ce6-af7f-9859408b46b4",
   "metadata": {},
   "outputs": [
    {
     "ename": "IndentationError",
     "evalue": "expected an indented block after function definition on line 3 (955567392.py, line 5)",
     "output_type": "error",
     "traceback": [
      "\u001b[1;36m  Cell \u001b[1;32mIn[41], line 5\u001b[1;36m\u001b[0m\n\u001b[1;33m    \"\"\"\u001b[0m\n\u001b[1;37m    ^\u001b[0m\n\u001b[1;31mIndentationError\u001b[0m\u001b[1;31m:\u001b[0m expected an indented block after function definition on line 3\n"
     ]
    }
   ],
   "source": [
    "# Basic Function : Below is an example of a basic function.\n",
    "def greet(name : str ) -> None : # None ..\n",
    "    \n",
    "\"\"\"\n",
    "     This function greets the person passed as parameter. ..\n",
    "\"\"\"\n",
    "    print(\"Hello\" + name + \" , Good Morning !\" )\n",
    "\n",
    "\n",
    "greet(\"Paul\")"
   ]
  },
  {
   "cell_type": "code",
   "execution_count": 40,
   "id": "f4fb1cc3-af51-4c0e-8acd-c37bd4dac96c",
   "metadata": {},
   "outputs": [
    {
     "name": "stdout",
     "output_type": "stream",
     "text": [
      "Hello Paul , Good Morning ! \n"
     ]
    }
   ],
   "source": [
    "def greet(name:str):\n",
    "        print( \"Hello \" + name + \" , Good Morning ! \")\n",
    "\"\"\"\n",
    "This function greets the person passed as parameter.\n",
    "\"\"\"\n",
    "\n",
    "greet(\"Paul\")\n"
   ]
  },
  {
   "cell_type": "code",
   "execution_count": 45,
   "id": "ce445ba9-fa11-4a30-9fa1-6a114e86149f",
   "metadata": {},
   "outputs": [
    {
     "name": "stdout",
     "output_type": "stream",
     "text": [
      "Hello Paul , Good Morning !\n"
     ]
    }
   ],
   "source": [
    "# ex\n",
    "def greet(name : str ) -> None : # None ..\n",
    "    \n",
    "     \"\"\"\n",
    "     This function greets the person passed as parameter. ..\n",
    "\"\"\"\n",
    "     print(\"Hello \" + name + \" , Good Morning !\" )\n",
    "\n",
    "\n",
    "greet(\"Paul\")"
   ]
  },
  {
   "cell_type": "markdown",
   "id": "d14b3407-f203-4a23-8108-4d744313e2a7",
   "metadata": {},
   "source": [
    "#### 2.Default Argument Function :"
   ]
  },
  {
   "cell_type": "code",
   "execution_count": 49,
   "id": "055a7101-0039-48f8-b410-6135a19b67b1",
   "metadata": {},
   "outputs": [
    {
     "name": "stdout",
     "output_type": "stream",
     "text": [
      "Hello Qasim , Good Morning ! \n",
      "Hello Ali , how are you doing ?\n"
     ]
    }
   ],
   "source": [
    "# Default Argument : Below is an example of a default argument.\n",
    "def greet( name : str , message : str = \"Good Morning ! \") -> None :\n",
    "    \"\"\"\n",
    "    This function greets the person with the provided message. \n",
    "    If the message is not provided , it defaults to \"Good Morning !\"\n",
    "    \"\"\"\n",
    "    print(\"Hello \" + name + \" , \" + message )\n",
    "\n",
    "greet(\"Qasim\")\n",
    "greet(\"Ali\" , \"how are you doing ?\")"
   ]
  },
  {
   "cell_type": "markdown",
   "id": "aa5162dc-86d1-4156-b4e5-2a7beaed680e",
   "metadata": {},
   "source": [
    "#### 3.    Variable-Length Arguments ((Function)) / (Passing Unlimited Arguments) :"
   ]
  },
  {
   "cell_type": "code",
   "execution_count": 53,
   "id": "505c943b-3fd1-4513-b7c1-8609447e6116",
   "metadata": {},
   "outputs": [
    {
     "name": "stdout",
     "output_type": "stream",
     "text": [
      "(1, 2, 3, 4, 5, 66) <class 'tuple'>\n"
     ]
    }
   ],
   "source": [
    "# First lets  see normal function.\n",
    "def abc( * nums ) : # the * means we can pass as many arguments as we want to\n",
    "    print(nums,  type(nums) )\n",
    "\n",
    "\n",
    "abc(1,2,3,4,5,66)"
   ]
  },
  {
   "cell_type": "code",
   "execution_count": 54,
   "id": "36f02568-320e-4563-8bb2-e36a0b390da6",
   "metadata": {},
   "outputs": [
    {
     "name": "stdout",
     "output_type": "stream",
     "text": [
      "(1, 2, 3, 3, 10) <class 'tuple'>\n"
     ]
    },
    {
     "data": {
      "text/plain": [
       "19"
      ]
     },
     "execution_count": 54,
     "metadata": {},
     "output_type": "execute_result"
    }
   ],
   "source": [
    "def abc(*nums) :\n",
    "    print(nums, type(nums))\n",
    "    total = 0\n",
    "    for n in nums:\n",
    "        total += n\n",
    "\n",
    "    return total\n",
    "\n",
    "\n",
    "abc(1,2,3,3,10) # the * above allows to pass as many arguments in function calling."
   ]
  },
  {
   "cell_type": "code",
   "execution_count": 66,
   "id": "8bcdeed6-cb18-4932-8589-5e53937a90d3",
   "metadata": {},
   "outputs": [
    {
     "name": "stdout",
     "output_type": "stream",
     "text": [
      "Hello Moica\n",
      "Hello Luke\n",
      "Hello Steve\n",
      "Hello John\n"
     ]
    }
   ],
   "source": [
    "from typing import Tuple\n",
    "\n",
    "def greet ( *names : Tuple [str, ...]) -> None :\n",
    "#                  this all the type above\n",
    "\n",
    "    \"\"\"\n",
    "    This function greets all the persons in the names tuple.\n",
    "    \"\"\"\n",
    "\n",
    "    for name in names:\n",
    "     print(\"Hello\", name)\n",
    "\n",
    "greet( \"Moica\", \"Luke\" , \"Steve\" , \"John\")\n",
    "\n",
    "    "
   ]
  },
  {
   "cell_type": "code",
   "execution_count": 58,
   "id": "df05561f-4c6d-4ad2-af24-00fe998d8229",
   "metadata": {},
   "outputs": [
    {
     "name": "stdout",
     "output_type": "stream",
     "text": [
      "the value of num1 is 20 and the value of num2 is 7. \n"
     ]
    },
    {
     "data": {
      "text/plain": [
       "27"
      ]
     },
     "execution_count": 58,
     "metadata": {},
     "output_type": "execute_result"
    }
   ],
   "source": [
    "# keyword argument can be passed when calling ( during function calling)\n",
    "def add_two_numbers(num1: int,num2:int)->int :\n",
    "    print(f\"the value of num1 is {num1} and the value of num2 is {num2}. \")\n",
    "    return num1 + num2\n",
    "\n",
    "add_two_numbers(num2=7,num1=20) # writing num1 and num2 here means these are keyword arguments\n",
    "#add_two_numbers(7,21) # here 7 means the first number and 21 means the second number , (in accordance with the function decalration) , so\n",
    "# these are positional arguments\n",
    "\n",
    "# key word argument can be passed when function calling , there are also unlimited keyword arguments functions."
   ]
  },
  {
   "cell_type": "code",
   "execution_count": 59,
   "id": "ca45f178-19e2-4c8e-94eb-147c41136c5f",
   "metadata": {},
   "outputs": [
    {
     "name": "stdout",
     "output_type": "stream",
     "text": [
      "the value of num1 is 20 and the value of num2 is 7. \n"
     ]
    },
    {
     "data": {
      "text/plain": [
       "27"
      ]
     },
     "execution_count": 59,
     "metadata": {},
     "output_type": "execute_result"
    }
   ],
   "source": [
    "add_two_numbers(20,7)"
   ]
  },
  {
   "cell_type": "code",
   "execution_count": 62,
   "id": "5491f6e0-d5cf-4c82-bca9-f7f9bb20730c",
   "metadata": {},
   "outputs": [
    {
     "name": "stdout",
     "output_type": "stream",
     "text": [
      "{'a': 7, 'b': 20, 'c': 30, 'x': 1, 'y': 2, 'name': 'Muhammad Qasim'} <class 'dict'>\n"
     ]
    }
   ],
   "source": [
    "# Keyword Arguments \n",
    "\n",
    "# below is an examples of using keyword arguments in a function (it is associated with dictionary)\n",
    "def xyz(**kargs) : #  here kargs stands for keyword arguments.\n",
    "# the ** is used when we want to pass unlimited/arbitrary/not knowing how many keyword arguments ((during function call))\n",
    "    print(kargs, type(kargs))\n",
    "\n",
    "xyz(a=7,b=20,c=30,x=1,y=2,name=\"Muhammad Qasim\")\n",
    "\n",
    "# here kargs is a dictionary (as shown in output ), above names variable was a tuple. "
   ]
  },
  {
   "cell_type": "code",
   "execution_count": 64,
   "id": "e50e1653-e53d-424d-8178-b3f19e82251c",
   "metadata": {},
   "outputs": [
    {
     "name": "stdout",
     "output_type": "stream",
     "text": [
      "1 2 (7, 9, 9, 9) {'c': 20, 'd': 30, 'x': 100}\n",
      "<class 'int'> <class 'tuple'> <class 'dict'>\n"
     ]
    }
   ],
   "source": [
    "# the program below has normal arguments (required positional arguments) , unlimited normal arguments (can be passed) variable, \n",
    "# and unlimited keyword arguments variable (( in function declaration))\n",
    "def my_function(a,b, *abc,**xyz) :\n",
    "    print(a,b,abc,xyz)\n",
    "    print(type(a), type(abc), type(xyz))\n",
    "\n",
    "\n",
    "my_function(1,2                              , 7,9,9,9,                         c=20,d=30,x=100)\n",
    "#         (required positional arguments)   (unlimited arguments)               (unlimited keyword arguments)\n",
    "#          the type of a,b is int            the type of abc is tuple           the type of xyz is dictionary"
   ]
  },
  {
   "cell_type": "markdown",
   "id": "8ce6b5cd-f58c-4f95-896a-b5018dc27faf",
   "metadata": {},
   "source": [
    "##### Single * , this (variable) is like a tuple :-"
   ]
  },
  {
   "cell_type": "code",
   "execution_count": 67,
   "id": "beafeacd-4cc7-46c1-aee8-3479d557a030",
   "metadata": {},
   "outputs": [
    {
     "name": "stdout",
     "output_type": "stream",
     "text": [
      "Hello Alice\n",
      "Hello Bobby\n",
      "Hello Kikki\n",
      "Hello Candace Ownes\n"
     ]
    }
   ],
   "source": [
    "def greet(*names) : # this names variable is a tuple  \n",
    "    for name in names:\n",
    "        print(\"Hello\", name)\n",
    "\n",
    "greet(\"Alice\", \"Bobby\", \"Kikki\", \"Candace Ownes\")  # (here we are bringing out values from a tuple(names))"
   ]
  },
  {
   "cell_type": "markdown",
   "id": "2299dd03-ac81-4470-96c5-42a0f6ae213a",
   "metadata": {},
   "source": [
    "##### Double ** , this (variable) is like a dictionary :-"
   ]
  },
  {
   "cell_type": "code",
   "execution_count": 70,
   "id": "49015b52-9e1d-4ede-b587-43786a2aa1be",
   "metadata": {},
   "outputs": [
    {
     "name": "stdout",
     "output_type": "stream",
     "text": [
      "{'a': 'pakistan', 'b': 'china'}\n"
     ]
    }
   ],
   "source": [
    "# above examples in terms of keyword argument will be \n",
    "from typing import Dict\n",
    "def greet(**xyz: Dict[str,str]) -> None :\n",
    "# or def greet(*xyz: dict[str,str]) -> None:\n",
    "    print(xyz)\n",
    "\n",
    "greet(a=\"pakistan\", b=\"china\")"
   ]
  },
  {
   "cell_type": "code",
   "execution_count": 71,
   "id": "87b51a4e-575f-42ed-a657-b044a888386d",
   "metadata": {},
   "outputs": [
    {
     "name": "stdout",
     "output_type": "stream",
     "text": [
      "1 2 (7, 9, 9, 9) {'c': 20, 'd': 30, 'x': 100}\n"
     ]
    }
   ],
   "source": [
    "# exx\n",
    "# writing in static type\n",
    "from typing import Tuple , Dict ,Any\n",
    "def my_function(a:int,b:int,*abc:Tuple[int,...], **xyz:Dict[str,int]) :\n",
    "    print(a,b,abc,xyz)\n",
    "\n",
    "my_function(1,2,   7,9,9,9,      c=20,d=30,x=100)"
   ]
  },
  {
   "cell_type": "code",
   "execution_count": 72,
   "id": "6f089006-25f3-4886-a9bc-e4f8c8ab6933",
   "metadata": {},
   "outputs": [
    {
     "name": "stdout",
     "output_type": "stream",
     "text": [
      "1 2 (7, 9, 9, 9) {'c': 20, 'd': 30, 'x': 100}\n"
     ]
    }
   ],
   "source": [
    "# exx\n",
    "from typing import Tuple , Dict\n",
    "def my_function(a:int,b:int, *abc: int , **xyz: int ) -> None :\n",
    "    print(a,b,abc,xyz)\n",
    "\n",
    "\n",
    "my_function(1,2,7,9,9,9,c=20,d=30,x=100)\n",
    "\n",
    "    "
   ]
  },
  {
   "cell_type": "markdown",
   "id": "d1fba64f-f9bc-478b-a2f1-f2026cc07bf1",
   "metadata": {},
   "source": [
    "#### 4.Lambda Function :"
   ]
  },
  {
   "cell_type": "code",
   "execution_count": 77,
   "id": "60f95896-afb0-4840-bff5-5c27770d6612",
   "metadata": {},
   "outputs": [
    {
     "name": "stdout",
     "output_type": "stream",
     "text": [
      "25\n"
     ]
    }
   ],
   "source": [
    "square = lambda x : x**2\n",
    "print(square(5))\n",
    "# print(square(3+3))"
   ]
  },
  {
   "cell_type": "markdown",
   "id": "01201ead-6d97-4fce-a0d1-246ad8c86b50",
   "metadata": {},
   "source": [
    "#### 5. Decorators"
   ]
  },
  {
   "cell_type": "code",
   "execution_count": null,
   "id": "dde6d493-21d4-40a2-b377-ab6527a00452",
   "metadata": {},
   "outputs": [],
   "source": [
    "# The example below uses decorator function."
   ]
  },
  {
   "cell_type": "code",
   "execution_count": null,
   "id": "12bc4b79-7497-45c9-bf19-77ef246ded84",
   "metadata": {},
   "outputs": [],
   "source": [
    "1 : 55"
   ]
  }
 ],
 "metadata": {
  "kernelspec": {
   "display_name": "Python 3 (ipykernel)",
   "language": "python",
   "name": "python3"
  },
  "language_info": {
   "codemirror_mode": {
    "name": "ipython",
    "version": 3
   },
   "file_extension": ".py",
   "mimetype": "text/x-python",
   "name": "python",
   "nbconvert_exporter": "python",
   "pygments_lexer": "ipython3",
   "version": "3.11.7"
  }
 },
 "nbformat": 4,
 "nbformat_minor": 5
}
